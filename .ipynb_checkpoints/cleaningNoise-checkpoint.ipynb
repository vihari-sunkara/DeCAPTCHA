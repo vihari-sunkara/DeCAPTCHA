{
 "cells": [
  {
   "cell_type": "code",
   "execution_count": 14,
   "metadata": {},
   "outputs": [],
   "source": [
    "import cv2 as cv\n",
    "import numpy as np\n",
    "from scipy import ndimage\n",
    "img= cv.imread('BMVP.png')\n",
    "hsv= cv.cvtColor(img,cv.COLOR_BGR2HSV)\n",
    "lower_p = np.array([0,0,150])\n",
    "upper_p =np.array([255,255,255])\n",
    "mask=cv.inRange(hsv, lower_p, upper_p) # background noise removed.\n",
    "#res= cv.bitwise_and(hsv,img,mask=mask) NOT USEFUL\n",
    "kernel = np.ones((5,5), np.uint8)  # erosion\n",
    "img_erosion = cv.erode(mask, kernel, iterations=1) \n",
    "# kernel_laplace = np.array([np.array([1, 1, 1]), np.array([1, -8, 1]), np.array([1, 1, 1])]) # finding edges which may be useful in segmentation ,Can use some other technique also \n",
    "#out_l = ndimage.convolve(img_erosion, kernel_laplace, mode='reflect')\n",
    "\n",
    "#cv.imshow('Erosion', img_erosion) \n",
    "#cv.imshow('img',img)\n",
    "cv.imshow('mask',mask)\n",
    "#cv.imshow('res',res)\n",
    "#cv.imshow('edge', out_l)  # this one may not be compulsary if we do segmentation by some other method.\n",
    "cv.waitKey(0)\n",
    "cv.destroyAllWindows()\n"
   ]
  },
  {
   "cell_type": "code",
   "execution_count": null,
   "metadata": {},
   "outputs": [],
   "source": []
  }
 ],
 "metadata": {
  "kernelspec": {
   "display_name": "Python 3",
   "language": "python",
   "name": "python3"
  },
  "language_info": {
   "codemirror_mode": {
    "name": "ipython",
    "version": 3
   },
   "file_extension": ".py",
   "mimetype": "text/x-python",
   "name": "python",
   "nbconvert_exporter": "python",
   "pygments_lexer": "ipython3",
   "version": "3.6.8"
  }
 },
 "nbformat": 4,
 "nbformat_minor": 2
}
