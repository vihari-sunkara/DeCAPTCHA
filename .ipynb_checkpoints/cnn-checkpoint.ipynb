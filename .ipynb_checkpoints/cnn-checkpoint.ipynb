{
 "cells": [
  {
   "cell_type": "code",
   "execution_count": 3,
   "metadata": {
    "scrolled": true
   },
   "outputs": [
    {
     "name": "stdout",
     "output_type": "stream",
     "text": [
      "['IOA.png', 'HEZ.png', 'PQAX.png', 'RPAX.png', 'DQH.png', 'LRMB.png', 'CUO.png', 'NNB.png', 'LME.png', 'WNW.png', 'DVZN.png', 'SMU.png', 'NLO.png', 'JPRO.png', 'SDNI.png', 'PQN.png', 'AYSJ.png', 'TKX.png', 'HWLL.png', 'UUU.png', 'QFS.png', 'QRI.png', 'ORD.png', 'PCW.png', 'UMFV.png', 'EKM.png', 'DCGE.png', 'WRJS.png', 'PXBS.png', 'TACG.png', 'KZO.png', 'QVPS.png', 'MYK.png', 'MAMY.png', 'QBUE.png', 'BWLN.png', 'AQVU.png', 'POMH.png', 'VVE.png', 'RJBP.png', 'KBON.png', 'UBQR.png', 'IFTW.png', 'AZTP.png', 'RWDL.png', 'IJDS.png', 'OKDD.png', 'WUSY.png', 'CPL.png', 'PEEP.png', 'JZX.png', 'FDQL.png', 'NSKT.png', 'PGR.png', 'BGUQ.png', 'RCI.png', 'UXFM.png', 'DBVX.png', 'XTOV.png', 'GNBJ.png', 'XQY.png', 'AEIK.png', 'EMS.png', 'GIK.png', 'EDH.png', 'ORX.png', 'GJA.png', 'FHG.png', 'WRI.png', 'JGA.png', 'OXKU.png', 'GHK.png', 'LBL.png', 'RSC.png', 'AHMC.png', 'PJZA.png', 'LSXM.png', 'LDMT.png', 'RUQ.png', 'PZEC.png', 'VKUG.png', 'EARK.png', 'TNEJ.png', 'STKF.png', 'UHG.png', 'VAVS.png', 'MVW.png', 'CIV.png', 'KLVO.png', 'OZLS.png', 'DFB.png', 'RES.png', 'TKL.png', 'EQP.png', 'WZS.png', 'CBSQ.png', 'HBU.png', 'OWG.png', 'HPGB.png', 'ODJ.png', 'PRWO.png', 'MJW.png', 'PUQ.png', 'XCCU.png', 'XAC.png', 'OCCM.png', 'EQEL.png', 'GOS.png', 'RLOL.png', 'RQSL.png', 'KWOF.png', 'VDV.png', 'OJM.png', 'KWM.png', 'FWW.png', 'TVV.png', 'KHN.png', 'DSHP.png', 'LMS.png', 'OVAZ.png', 'EDMX.png', 'DSY.png', 'GYG.png', 'KFVF.png', 'EYZ.png', 'UIUV.png', 'EZH.png', 'IOK.png', 'OXZ.png', 'FXS.png', 'LYBB.png', 'EBC.png', 'IAXY.png', 'LHSX.png', 'WFC.png', 'WRXQ.png', 'ERK.png', 'CXGJ.png', 'PTQ.png', 'BTSA.png', 'XIY.png', 'GZF.png', 'VCHQ.png', 'IOF.png', 'SKZJ.png', 'BLTO.png', 'DVQ.png', 'TNHX.png', 'DRYI.png', 'TEU.png', 'GEI.png', 'EDRI.png', 'TEDB.png', 'MWB.png', 'PLFR.png', 'KBF.png', 'LNFL.png', 'HTZ.png', 'MDJ.png', 'SDB.png', 'QXD.png', 'LYM.png', 'PBJ.png', 'QUZH.png', 'CCJ.png', 'EWOA.png', 'RMJ.png', 'VWBN.png', 'DYO.png', 'HBNP.png', 'CPSB.png', 'JHVD.png', 'DEHW.png', 'MDA.png', 'XEY.png', 'DQKQ.png', 'KZN.png', 'OPIY.png', 'EFGS.png', 'XAOR.png', 'ABU.png', 'KEFL.png', 'NLRN.png', 'EDV.png', 'LPR.png', 'QRGF.png', 'KZB.png', 'IVQ.png', 'DQS.png', 'XGN.png', 'NON.png', 'ENSU.png', 'PTCP.png', 'ERPE.png', 'EWK.png', 'LOX.png', 'NIQQ.png', 'TAMA.png', 'SVD.png', 'MRZ.png', 'SDR.png', 'QDRR.png', 'XHC.png', 'BYHO.png', 'PGG.png', 'KOIK.png', 'HYLV.png', 'HTS.png', 'TJVD.png', 'XMMG.png', 'KWCG.png', 'SRB.png', 'KQEP.png', 'HZKQ.png', 'GIC.png', 'TKHG.png', 'WSWD.png', 'RCRY.png', 'NJFX.png', 'IQBL.png', 'NOF.png', 'WTT.png', 'LDWY.png', 'MMGY.png', 'DKO.png', 'QCXN.png', 'WUY.png', 'JGNE.png', 'RAD.png', 'SDWF.png', 'JIMT.png', 'KAU.png', 'LBD.png', 'BJQX.png', 'WBI.png', 'LQDS.png', 'PIOO.png', 'WSV.png', 'DLCX.png', 'WSU.png', 'LVL.png', 'GDFN.png', 'AAE.png', 'JEBN.png', 'EUUF.png', 'AVFR.png', 'DCUS.png', 'MAQB.png', 'BNQW.png', 'GEPQ.png', 'DGUP.png', 'SRK.png', 'QAIZ.png', 'ONR.png', 'FKR.png', 'ISK.png', 'EYY.png', 'QVV.png', 'PWJF.png', 'ASYK.png', 'LYHV.png', 'DLB.png', 'DQWX.png', 'CBB.png', 'BKB.png', 'TSS.png', 'BTAU.png', 'JWIU.png', 'WUBV.png', 'JXCO.png', 'IXD.png', 'THG.png', 'SQSP.png', 'NDU.png', 'JNPW.png', 'FYB.png', 'AYMM.png', 'VHOJ.png', 'VMQ.png', 'XFH.png', 'DNJ.png', 'OIM.png', 'GUAV.png', 'MYC.png', 'DTWP.png', 'HKL.png', 'VDP.png', 'ACF.png', 'IBID.png', 'LBX.png', 'AVXS.png', 'IBE.png', 'ADY.png', 'ENSR.png', 'SSXN.png', 'KLK.png', 'ABJG.png', 'EDY.png', 'WLB.png', 'TUS.png', 'QIQT.png', 'VNU.png', 'XFN.png', 'ESE.png', 'FBF.png', 'FDM.png', 'SCZB.png', 'CDBN.png', 'PSRC.png', 'EVRH.png', 'OSZ.png', 'LHZH.png', 'UOJT.png', 'FZW.png', 'LLEK.png', 'MCT.png', 'KBHZ.png', 'GMMU.png', 'NPM.png', 'SHO.png', 'HGG.png', 'MIZH.png', 'PLB.png', 'IRZ.png', 'VOBM.png', 'RJN.png', 'NXDS.png', 'TUR.png', 'RNUJ.png', 'FZPA.png', 'MJFF.png', 'RGW.png', 'GCVJ.png', 'NIX.png', 'RQO.png', 'KZZY.png', 'ATK.png', 'DPU.png', 'BAB.png', 'WYZG.png', 'UYPK.png', 'AML.png', 'OPVG.png', 'LLU.png', 'GPQP.png', 'EYIZ.png', 'HCSQ.png', 'NFS.png', 'MYL.png', 'MXY.png', 'IPH.png', 'QGSA.png', 'PAA.png', 'QDMK.png', 'EZP.png', 'CLG.png', 'BYZ.png', 'OEU.png', 'MAM.png', 'GQWB.png', 'ADB.png', 'BLUD.png', 'KGA.png', 'SNJD.png', 'JME.png', 'QHAO.png', 'KOGM.png', 'NQBG.png', 'HXMO.png', 'FWB.png', 'EEN.png', 'LWBQ.png', 'SKLK.png', 'EUDN.png', 'BEBQ.png', 'GVQ.png', 'NRDN.png', 'FAP.png', 'QIZ.png', 'WFS.png', 'MVIF.png', 'CHG.png', 'CVTB.png', 'ARFQ.png', 'SYL.png', 'LGG.png', 'WIJS.png', 'JYA.png', 'ANVB.png', 'XGLV.png', 'OXS.png', 'PDXG.png', 'LGZI.png', 'NJKQ.png', 'EVI.png', 'BFN.png', 'ESD.png', 'DGA.png', 'XPTP.png', 'RUV.png', 'NUN.png', 'WDE.png', 'NBMR.png', 'MTK.png', 'GFVR.png', 'AGZF.png', 'DZR.png', 'SMC.png', 'JJH.png', 'XKR.png', 'BGZ.png', 'QDN.png', 'ORE.png', 'OZSD.png', 'OEX.png', 'GDYV.png', 'WQRE.png', 'RRI.png', 'LFR.png', 'PYY.png', 'RHS.png', 'CMJH.png', 'BYP.png', 'WOP.png', 'HOTI.png', 'SKIK.png', 'EQHA.png', 'GLCG.png', 'WBLN.png', 'KXK.png', 'NVPD.png', 'KLPQ.png', 'MYQP.png', 'PZI.png', 'DBBQ.png', 'TUM.png', 'KACD.png', 'FAW.png', 'APE.png', 'FJJW.png', 'FWY.png', 'LYCG.png', 'SOR.png', 'OBIA.png', 'LUCE.png', 'IUZ.png', 'SQEV.png', 'KOOO.png', 'OCNJ.png', 'GGPK.png', 'MUAO.png', 'LIQ.png', 'GGXP.png', 'ASXC.png', 'FKI.png', 'IROX.png', 'APRQ.png', 'KAP.png', 'LLB.png', 'RDOT.png', 'JSC.png', 'VKS.png', 'DHV.png', 'GEXI.png', 'SSW.png', 'PIM.png', 'HVP.png', 'DNOG.png', 'TZCW.png', 'PKFT.png', 'EDI.png', 'BOMD.png', 'BMVP.png', 'QUA.png', 'TLIP.png', 'NEZ.png', 'BLG.png', 'HSD.png', 'MJT.png', 'LCWF.png', 'HBDV.png', 'COK.png', 'VYYQ.png', 'IJH.png', 'PJK.png', 'BNB.png', 'XQIT.png', 'HQI.png', 'TBR.png', 'UGJC.png', 'HEPH.png', 'AUYK.png', 'CXDH.png', 'AMI.png', 'VLF.png', 'IRQU.png', 'PKBU.png', 'LCH.png', 'DGD.png', 'CMI.png', 'AXLM.png', 'AMG.png', 'DJVA.png', 'NYN.png', 'WVH.png', 'HKYP.png', 'UQC.png', 'XBYI.png', 'OEOA.png', 'EFHN.png', 'MIL.png', 'PJYZ.png', 'CFI.png', 'FTCS.png', 'VSW.png', 'FXR.png', 'BSJ.png', 'IXR.png', 'RBZ.png', 'CMJ.png', 'MDZQ.png', 'EGY.png', 'FBH.png', 'ACWT.png', 'VJPE.png', 'VLUK.png', 'QXU.png', 'JCNA.png', 'QGGN.png', 'MKVT.png', 'MSVM.png', 'GLG.png', 'EGD.png', 'KAF.png', 'OGKI.png', 'WJK.png', 'BLXY.png', 'OEO.png', 'UFZI.png', 'QUZU.png', 'NRA.png', 'OXM.png', 'MLB.png', 'IQIY.png', 'HRW.png', 'OJI.png', 'ESIW.png', 'CSB.png', 'PWZ.png', 'XIZK.png', 'LGB.png', 'MVD.png', 'OQP.png', 'IPOJ.png', 'HDZL.png', 'VFEU.png', 'XIVG.png', 'NUQ.png', 'EJH.png', 'NIS.png', 'XPW.png', 'GSG.png', 'DLEB.png', 'JCVC.png', 'KOIB.png', 'EIK.png', 'HQAR.png', 'LIA.png', 'IZJ.png', 'EJT.png', 'GNHB.png', 'UQS.png', 'KDEJ.png', 'TUAY.png', 'UQN.png', 'BNIC.png', 'LGQM.png', 'DYE.png', 'MJJ.png', 'PQXA.png', 'UBBA.png', 'LEUR.png', 'GYX.png', 'EPLY.png', 'DEO.png', 'HHI.png', 'QATM.png', 'CWIK.png', 'IDVJ.png', 'DBRW.png', 'BSPC.png', 'KRUJ.png', 'SFUC.png', 'PNMF.png', 'DST.png', 'KOC.png', 'AHLD.png', 'HPL.png', 'KXKB.png', 'WNBE.png', 'QNP.png', 'WJMM.png', 'PCQG.png', 'FPOU.png', 'OQW.png', 'OJD.png', 'XCFW.png', 'UPI.png', 'HROO.png', 'JPVK.png', 'XDG.png', 'GFZ.png', 'XFQL.png', 'RBW.png', 'TWAM.png', 'DQC.png', 'OHP.png', 'GYKW.png', 'COW.png', 'NAO.png', 'GSV.png', 'CWTX.png', 'SSH.png', 'CKZW.png', 'IGCM.png', 'KIWI.png', 'QGU.png', 'KXV.png', 'HQD.png', 'WGW.png', 'HFDI.png', 'HEB.png', 'BPX.png', 'HOJ.png', 'NVBR.png', 'HID.png', 'SJL.png', 'CFC.png', 'FVN.png', 'BYY.png', 'JPK.png', 'WTJ.png', 'HGFX.png', 'SSVB.png', 'WCR.png', 'TSNL.png', 'FGCT.png', 'MFW.png', 'QTB.png', 'RYXY.png', 'KPKM.png', 'NOIY.png', 'MAJZ.png', 'QLJ.png', 'FXXU.png', 'VKD.png', 'RTYL.png', 'FKPX.png', 'LLA.png', 'NZX.png', 'REP.png', 'VNWU.png', 'MGR.png', 'FSMF.png', 'TZSC.png', 'GKO.png', 'BHLR.png', 'SFM.png', 'QDC.png', 'KAT.png', 'KVYQ.png', 'FFKT.png', 'EGQY.png', 'XPD.png', 'PFZZ.png', 'MYOE.png', 'WQSO.png', 'HWJM.png', 'VSKX.png', 'RDSQ.png', 'FGI.png', 'UKU.png', 'PBT.png', 'JJDT.png', 'QHQ.png', 'IOMG.png', 'BSE.png', 'KLHA.png', 'SJZ.png', 'HUW.png', 'HCZ.png', 'QND.png', 'ICB.png', 'SQHR.png', 'ACA.png', 'MKQZ.png', 'JTVO.png', 'IODJ.png', 'VCS.png', 'SPXG.png', 'SCX.png', 'UBS.png', 'IUI.png', 'WFW.png', 'FOXE.png', 'VDRS.png', 'NMUM.png', 'EVF.png', 'PLTG.png', 'VSPQ.png', 'MAZD.png', 'BZUF.png', 'UYMB.png', 'IRVX.png', 'HXV.png', 'BWE.png', 'HVAB.png', 'QCO.png', 'POUH.png', 'GCRU.png', 'OKG.png', 'BJM.png', 'KNDN.png', 'NWD.png', 'EEBE.png', 'HZEA.png', 'XCI.png', 'OLL.png', 'OWFW.png', 'HBOR.png', 'NPNB.png', 'HKO.png', 'GYF.png', 'UZDM.png', 'IFXW.png', 'EFN.png', 'AYDQ.png', 'DKLD.png', 'FSD.png', 'WUW.png', 'PFR.png', 'LMA.png', 'CSWP.png', 'QGL.png', 'GJMV.png', 'PARN.png', 'WRY.png', 'IPKE.png', 'SRN.png', 'XTCY.png', 'VMRR.png', 'TGH.png', 'TXRA.png', 'PZKS.png', 'RSDG.png', 'FVJI.png', 'NVH.png', 'WGL.png', 'LXG.png', 'CKX.png', 'BKHG.png', 'DFXK.png', 'QMHZ.png', 'MZBI.png', 'XMV.png', 'EKX.png', 'SIQJ.png', 'LBUH.png', 'NKV.png', 'HHA.png', 'MRHC.png', 'BKEY.png', 'JPM.png', 'KLDQ.png', 'KRU.png', 'MIT.png', 'UPPI.png', 'OVM.png', 'QXUJ.png', 'HVI.png', 'RSVF.png', 'DKM.png', 'CWLB.png', 'OAKO.png', 'PESX.png', 'FLTG.png', 'BRY.png', 'MHO.png', 'DCMG.png', 'FUBO.png', 'CVOS.png', 'PEBN.png', 'LFH.png', 'CJS.png', 'KQV.png', 'KLUE.png', 'OUT.png', 'AJOX.png', 'TYH.png', 'WMR.png', 'UYT.png', 'HDOH.png', 'GWBY.png', 'EOO.png', 'OYG.png', 'LOWM.png', 'DIBZ.png', 'AVR.png', 'EWFH.png', 'TSA.png', 'IQW.png', 'RBG.png', 'QARO.png', 'EDTW.png', 'UUZ.png', 'VHDH.png', 'JUNJ.png', 'GQPA.png', 'KGKX.png', 'XOX.png', 'CPO.png', 'RFL.png', 'JKE.png', 'AGIA.png', 'GZY.png', 'AUK.png', 'ACN.png', 'ASXG.png', 'MNZ.png', 'DCNW.png', 'FCLV.png', 'MUJI.png', 'WDZ.png', 'NSZ.png', 'FSRH.png', 'GAN.png', 'KSRL.png', 'GLI.png', 'MEMB.png', 'WDGI.png', 'LYO.png', 'KUNG.png', 'AGQ.png', 'JSW.png', 'IDDD.png', 'XPKU.png', 'HPYF.png', 'KZGK.png', 'TWU.png', 'VNM.png', 'PMT.png', 'GWVG.png', 'AUCS.png', 'OCGN.png', 'TFNX.png', 'ECGH.png', 'MJU.png', 'XOC.png', 'HWN.png', 'PACK.png', 'MZKT.png', 'FMQN.png', 'GKP.png', 'DKUM.png', 'JRP.png', 'SFA.png', 'EUS.png', 'NLC.png', 'VKN.png', 'KYZ.png', 'KUI.png', 'GDHQ.png', 'JLMD.png', 'VFHB.png', 'RPFB.png', 'FJCU.png', 'VZQH.png', 'KWZX.png', 'QGTC.png', 'HRWY.png', 'SBWX.png', 'MYJ.png', 'HZPZ.png', 'TANI.png', 'NFBC.png', 'FHKN.png', 'MFBL.png', 'LDYN.png', 'VIP.png', 'TJC.png', 'DFO.png', 'MXWG.png', 'FVX.png', 'LRL.png', 'KFDN.png', 'QNOH.png', 'OLGL.png', 'KXT.png', 'QPP.png', 'QLYV.png', 'NLPV.png', 'UWJO.png', 'LDEV.png', 'NOE.png', 'BRSW.png', 'WRN.png', 'SJSY.png', 'DSXN.png', 'MBF.png', 'KHA.png', 'WPV.png', 'REN.png', 'XLN.png', 'AIPO.png', 'VBA.png', 'RMS.png', 'AWB.png', 'MOPK.png', 'DZGJ.png', 'KFRZ.png', 'XDO.png', 'PHD.png', 'SPRA.png', 'LYZ.png', 'TNEC.png', 'GYD.png', 'DEM.png', 'OBTH.png', 'DMRX.png', 'BFAM.png', 'JVN.png', 'JWHZ.png', 'TWOJ.png', 'UNA.png', 'OND.png', 'JJRG.png', 'XEEW.png', 'MOL.png', 'VBN.png', 'GEBD.png', 'TFP.png', 'AAR.png', 'PFU.png', 'FMO.png', 'TNG.png', 'TWHE.png', 'RYUA.png', 'MDZ.png', 'OJC.png', 'HPLY.png', 'GSSJ.png', 'BGUB.png', 'HLR.png', 'TJYW.png', 'LDHD.png', 'KCJ.png', 'DUJ.png', 'RLCK.png', 'OCD.png', 'KRQ.png', 'LZBL.png', 'WOU.png', 'TUGG.png', 'BLN.png', 'SRA.png', 'OCGD.png', 'AFLI.png', 'EXPW.png', 'QNJ.png', 'LGX.png', 'GCI.png', 'JDU.png', 'OLD.png', 'GEDJ.png', 'DEL.png', 'BPO.png', 'KODQ.png', 'RHD.png', 'MJNU.png', 'GTS.png', 'BSM.png', 'FLDG.png', 'UFFS.png', 'TFX.png', 'JLC.png', 'DVKF.png', 'FYEF.png', 'OUUG.png', 'QNIZ.png', 'QLCT.png', 'QIZL.png', 'BCQ.png', 'MEL.png', 'RXLS.png', 'UHL.png', 'LQII.png', 'JZRG.png', 'EPZU.png', 'FGFM.png', 'GGRI.png', 'HFD.png', 'JOZ.png', 'ITRM.png', 'OQB.png', 'GDNE.png', 'RVQ.png', 'KQH.png', 'QGQ.png', 'RJBY.png', 'GIMN.png', 'XRF.png', 'KIT.png', 'AXAK.png', 'OIBB.png', 'STBO.png', 'VONC.png', 'RGSX.png', 'ANJ.png', 'XBZ.png', 'NLP.png', 'KSJ.png', 'PQWS.png', 'KDSK.png', 'CSF.png', 'DFY.png', 'AQO.png', 'AISL.png', 'VKUU.png', 'VEXM.png', 'FWXT.png', 'BLFI.png', 'XAG.png', 'OUS.png', 'FUW.png', 'GIMC.png', 'FLNT.png', 'SFI.png', 'JFIT.png', 'OUO.png', 'TZFK.png', 'SGR.png', 'BDFP.png', 'JQP.png', 'CEH.png', 'BOZ.png', 'XRKQ.png', 'GNS.png', 'IBUJ.png', 'ULRL.png', 'WBPY.png', 'RVEM.png', 'PNUJ.png', 'NELU.png', 'LRV.png', 'LUS.png', 'CSZ.png', 'CKE.png', 'OXV.png', 'TRY.png', 'RNS.png', 'DFZ.png', 'GBUF.png', 'ETI.png', 'TGL.png', 'PQGD.png', 'PJVZ.png', 'FYHE.png', 'FVVB.png', 'FEMY.png', 'FQIV.png', 'OXN.png', 'JIY.png', 'MCPH.png', 'ENZ.png', 'QQM.png', 'XBQ.png', 'EFY.png', 'SYVZ.png', 'IKWP.png', 'GOWW.png', 'JIQR.png', 'KFY.png', 'ETO.png', 'UIJG.png', 'CGCT.png', 'VMCS.png', 'WMB.png', 'PMC.png', 'OQBA.png', 'TIQ.png', 'QKEE.png', 'EHKH.png', 'MQJ.png', 'JGO.png', 'PGDN.png', 'SGI.png', 'BRQR.png', 'PYEV.png', 'LXH.png', 'CPPO.png', 'NHG.png', 'GKB.png', 'DNF.png', 'JHR.png', 'LDHP.png', 'ALBS.png', 'QXQ.png', 'LEZ.png', 'NBP.png', 'CWG.png', 'KTAL.png', 'EJKV.png', 'QDKT.png', 'EAE.png', 'BIS.png', 'COI.png', 'QRWS.png', 'PMQS.png', 'JIMI.png', 'EDIU.png', 'CAPB.png', 'QYHM.png', 'XOU.png', 'VNT.png', 'TTU.png', 'WFMT.png', 'RLF.png', 'VSN.png', 'UOEX.png', 'WBSD.png', 'POGK.png', 'PNWB.png', 'VGPG.png', 'WFTY.png', 'OCS.png', 'VINX.png', 'OVRQ.png', 'PUQR.png', 'VPEN.png', 'CHYR.png', 'SUB.png', 'CZDZ.png', 'MYMH.png', 'CJF.png', 'GGSP.png', 'IXVE.png', 'SPV.png', 'DXQL.png', 'PHL.png', 'SML.png', 'XQO.png', 'MMOW.png', 'WSSB.png', 'WGXV.png', 'JNK.png', 'RHI.png', 'LCKZ.png', 'BSW.png', 'AEDC.png', 'HDNW.png', 'CXD.png', 'PQD.png', 'RUN.png', 'CML.png', 'VPIW.png', 'BLXL.png', 'QNS.png', 'ROQ.png', 'VCK.png', 'ISXL.png', 'JSMS.png', 'OIXU.png', 'RDLS.png', 'UNSR.png', 'KHDC.png', 'DUU.png', 'MXPR.png', 'TZP.png', 'SVOI.png', 'FAQN.png', 'ADVV.png', 'EHSD.png', 'FMID.png', 'HDZW.png', 'QQO.png', 'PWUO.png', 'NQSP.png', 'PEAN.png', 'ERR.png', 'NUDB.png', 'BIU.png', 'DUWO.png', 'JWL.png', 'AING.png', 'IMYJ.png', 'RFAE.png', 'VDFM.png', 'BVGY.png', 'ACKZ.png', 'LIE.png', 'RME.png', 'PJG.png', 'TKI.png', 'GKVQ.png', 'WVOK.png', 'EGWX.png', 'HEO.png', 'UZS.png', 'JGR.png', 'PQKR.png', 'PDIW.png', 'JXCJ.png', 'MZU.png', 'FJRN.png', 'EEYK.png', 'REED.png', 'PAG.png', 'ICZ.png', 'PRS.png', 'GEA.png', 'KRS.png', 'TDOH.png', 'BAS.png', 'QGP.png', 'UPUE.png', 'WBS.png', 'ITV.png', 'OOS.png', 'VMTY.png', 'NVB.png', 'CPG.png', 'TOZY.png', 'PLT.png', 'HPJU.png', 'TRWJ.png', 'LNV.png', 'BCEM.png', 'RMC.png', 'WHDQ.png', 'COSJ.png', 'OEPH.png', 'IUX.png', 'XQDX.png', 'UNPY.png', 'GYZ.png', 'BVKM.png', 'EONP.png', 'LJQS.png', 'STG.png', 'TOOX.png', 'WRH.png', 'LZGI.png', 'SAE.png', 'PWML.png', 'KVJ.png', 'HEL.png', 'TEMC.png', 'KSS.png', 'JGXR.png', 'FDPO.png', 'UNP.png', 'HGK.png', 'TING.png', 'ANHL.png', 'LTOU.png', 'LVHX.png', 'WUMZ.png', 'PJX.png', 'SZWH.png', 'GMO.png', 'HEPO.png', 'QZLS.png', 'XHFR.png', 'PFNO.png', 'QXW.png', 'GZSN.png', 'OGQD.png', 'MNXE.png', 'QHV.png', 'XTDM.png', 'CMX.png', 'EPMU.png', 'KXY.png', 'INU.png', 'ECM.png', 'LRY.png', 'DVA.png', 'WQSW.png', 'KWS.png', 'CWH.png', 'OVC.png', 'ONPK.png', 'GAD.png', 'HEHM.png', 'OAT.png', 'PJGI.png', 'NTL.png', 'HLH.png', 'EXI.png', 'ONT.png', 'XFRH.png', 'IAF.png', 'USW.png', 'RPQW.png', 'QOQ.png', 'IRGW.png', 'EBUK.png', 'PRY.png', 'RVB.png', 'GVBX.png', 'RCJ.png', 'KSF.png', 'FWT.png', 'UBB.png', 'TWUG.png', 'EBPK.png', 'KIM.png', 'AYF.png', 'FHLQ.png', 'VJEC.png', 'FUC.png', 'SKGO.png', 'OBN.png', 'TUW.png', 'JER.png', 'SZLC.png', 'MQJP.png', 'HCHX.png', 'CJU.png', 'MDB.png', 'KGUN.png', 'QQZ.png', 'UTV.png', 'IFWZ.png', 'BMB.png', 'GJNA.png', 'XNHS.png', 'UBJ.png', 'IOB.png', 'BDP.png', 'POYZ.png', 'WZZ.png', 'VNMP.png', 'SMR.png', 'LEP.png', 'DKI.png', 'MKQI.png', 'LDH.png', 'WCQ.png', 'LYL.png', 'HBNV.png', 'XJTB.png', 'LAWJ.png', 'OHS.png', 'GJG.png', 'RSX.png', 'PZAY.png', 'IOLQ.png', 'KDLM.png', 'OQU.png', 'EPOV.png', 'HDP.png', 'RHTJ.png', 'OYHU.png', 'TNZJ.png', 'JZH.png', 'EJD.png', 'DJI.png', 'IOKG.png', 'ALZM.png', 'LHH.png', 'PWO.png', 'OIDT.png', 'QBZJ.png', 'VHTI.png', 'EEZ.png', 'JCRI.png', 'URW.png', 'JNXF.png', 'XSHA.png', 'VGG.png', 'LWD.png', 'BYF.png', 'GUSV.png', 'QUC.png', 'KVSN.png', 'GBRO.png', 'PYC.png', 'NKL.png', 'LFUC.png', 'HUX.png', 'UBKF.png', 'AVEO.png', 'LEJ.png', 'VKXL.png', 'TZDJ.png', 'SNJ.png', 'OXPU.png', 'IUBA.png', 'JEZ.png', 'IFX.png', 'PDR.png', 'GCA.png', 'SID.png', 'UKQX.png', 'IGWM.png', 'UKR.png', 'DOO.png', 'BBTB.png', 'WICO.png', 'VKQK.png', 'QPOU.png', 'HGLN.png', 'LITS.png', 'UFL.png', 'SGW.png', 'FHNS.png', 'DZH.png', 'HLO.png', 'AAGL.png', 'CIPL.png', 'NXO.png', 'FXA.png', 'IJU.png', 'MFT.png', 'EJLK.png', 'PAS.png', 'WXA.png', 'CJI.png', 'XLM.png', 'GPNN.png', 'JHM.png', 'NEIK.png', 'XDV.png', 'TQR.png', 'BGU.png', 'IPME.png', 'QHF.png', 'PJLH.png', 'ETRJ.png', 'NOP.png', 'ICSZ.png', 'QRP.png', 'NSQ.png', 'CKSZ.png', 'JLIV.png', 'DART.png', 'MJFQ.png', 'WIJX.png', 'MVAZ.png', 'WUJ.png', 'TGF.png', 'SRY.png', 'LUP.png', 'UIHP.png', 'AXAX.png', 'USB.png', 'EYB.png', 'SKNM.png', 'MOXR.png', 'WOO.png', 'QGX.png', 'FEE.png', 'HUS.png', 'STO.png', 'SGQR.png', 'LKWW.png', 'WZHJ.png', 'OXSS.png', 'PFI.png', 'XQW.png', 'EKH.png', 'KXZ.png', 'CTDJ.png', 'UWJF.png', 'UOXX.png', 'HRI.png', 'XAO.png', 'EWUO.png', 'WBT.png', 'XQLO.png', 'LOYD.png', 'TFU.png', 'GJIU.png', 'QHE.png', 'VITV.png', 'XNV.png', 'DZP.png', 'SUZ.png', 'LVJ.png', 'EAS.png', 'SQSJ.png', 'BUF.png', 'UKBZ.png', 'VCQ.png', 'RJX.png', 'VZDX.png', 'MKZF.png', 'UIW.png', 'VEFL.png', 'LWM.png', 'ACI.png', 'SDJS.png', 'SKO.png', 'HOB.png', 'NLG.png', 'DXJH.png', 'QRX.png', 'HAUC.png', 'BIP.png', 'RNLK.png', 'LWKK.png', 'OVZ.png', 'WLYG.png', 'HOQR.png', 'UFPA.png', 'NZJL.png', 'DWAO.png', 'WKE.png', 'QGNR.png', 'IJSJ.png', 'CGDQ.png', 'IOIZ.png', 'BDI.png', 'ILY.png', 'LAC.png', 'ONU.png', 'SDTB.png', 'SBNC.png', 'UAMV.png', 'GIX.png', 'QXTF.png', 'MAYQ.png', 'XJS.png', 'KQFM.png', 'KXYH.png', 'GUZA.png', 'GVRE.png', 'VHM.png', 'SSB.png', 'KVOX.png', 'DNPL.png', 'EGT.png', 'EJI.png', 'UHTF.png', 'PCD.png', 'UCS.png', 'FZF.png', 'CVU.png', 'EAXC.png', 'FVSP.png', 'VTNE.png', 'BHC.png', 'IDRN.png', 'NKLN.png', 'JQH.png', 'QWQ.png', 'VWLU.png', 'RTF.png', 'KIPS.png', 'VMT.png', 'TANW.png', 'ADTX.png', 'BOT.png', 'HBNI.png', 'EIR.png', 'FYA.png', 'IJIV.png', 'SBJE.png', 'PLWB.png', 'HYSO.png', 'FOZL.png', 'OIS.png', 'OIH.png', 'QHXC.png', 'VAW.png', 'QUM.png', 'NLJC.png', 'CGC.png', 'CGE.png', 'FZUR.png', 'HEA.png', 'DUZU.png', 'XBHU.png', 'NVXH.png', 'HTC.png', 'BMA.png', 'NCCV.png', 'HRZT.png', 'QYZQ.png', 'MDP.png', 'OXP.png', 'SNI.png', 'GMRK.png', 'AAA.png', 'UNZO.png', 'FCM.png', 'DXV.png', 'CHZ.png', 'MOCN.png', 'XKU.png', 'QEH.png', 'KXYB.png', 'UPFO.png', 'NMWV.png', 'VCX.png', 'NFT.png', 'QTN.png', 'CCWU.png', 'MFD.png', 'QRY.png', 'AWVY.png', 'DHXD.png', 'PAVG.png', 'MJZ.png', 'IFOA.png', 'BKG.png', 'KRV.png', 'VUDU.png', 'LTW.png', 'KAE.png', 'MHRB.png', 'TQN.png', 'KCSK.png', 'RSNL.png', 'VDK.png', 'IKE.png', 'DNRV.png', 'UPGV.png', 'QDSB.png', 'VPAO.png', 'BZL.png', 'BAOO.png', 'IEA.png', 'TWJF.png', 'JPV.png', 'MUP.png', 'KJBE.png', 'TSNH.png', 'LSV.png', 'BQMN.png', 'SCO.png', 'QRHT.png', 'IQEV.png', 'FEKD.png', 'FCCW.png', 'INUD.png', 'IRFH.png', 'EGN.png', 'ASX.png', 'QTBZ.png', 'MLAF.png', 'LHJ.png', 'MPG.png', 'ATZ.png', 'LQX.png', 'PTH.png', 'OGX.png', 'VFDO.png', 'WYJ.png', 'HPU.png', 'NJWT.png', 'RZBR.png', 'FRL.png', 'ORKI.png', 'QYQ.png', 'QKBR.png', 'UAYN.png', 'RSKC.png', 'SDYL.png', 'GOG.png', 'HHC.png', 'WHK.png', 'SAI.png', 'AXL.png', 'FYFZ.png', 'XCDE.png', 'HFM.png', 'HDR.png', 'PENM.png', 'EZS.png', 'OADO.png', 'ESL.png', 'ERJ.png', 'LZWE.png', 'TXED.png', 'KQVP.png', 'GDOJ.png', 'TUP.png', 'NIZK.png', 'BZS.png', 'VWUL.png', 'IZLN.png', 'JIJY.png', 'ACW.png', 'HZKX.png', 'MDN.png', 'WVZF.png', 'ENQ.png', 'MTAI.png', 'UQZ.png', 'WUT.png', 'FWI.png', 'WUX.png', 'HJI.png', 'PEH.png', 'NFN.png', 'CXW.png', 'NBI.png', 'KEKP.png', 'EYSL.png', 'XMN.png', 'ACD.png', 'SEYM.png', 'EACN.png', 'GUEX.png', 'VBBB.png', 'IEO.png', 'GZO.png', 'UBMM.png', 'SUQE.png', 'UUWY.png', 'PSWK.png', 'JYUO.png', 'QGNI.png', 'ENR.png', 'AJGG.png', 'PBY.png', 'RZW.png', 'OHT.png', 'WBEA.png', 'PZUB.png', 'WCQB.png', 'LJF.png', 'MNC.png', 'DOH.png', 'OFRZ.png', 'TLM.png', 'ANMH.png', 'WTSP.png', 'CHS.png', 'DWWV.png', 'PYBW.png', 'CYG.png', 'PJPB.png', 'RQD.png', 'PBZ.png', 'KOXA.png', 'UOTE.png', 'RBO.png', 'RBR.png', 'OAN.png', 'BWW.png', 'QWCX.png', 'XTA.png', 'VMC.png', 'XQI.png', 'SUE.png', 'QOKZ.png', 'OTI.png', 'PJCA.png', 'UQIX.png', 'LSR.png', 'BGM.png', 'NPBM.png', 'OAY.png', 'TMZ.png', 'JWVH.png', 'POZI.png', 'VFP.png', 'JQVW.png', 'XOR.png', 'EZVK.png', 'STLC.png', 'OZM.png', 'MWZ.png', 'IKP.png', 'FUYH.png', 'WEG.png', 'QPAP.png', 'ENOW.png', 'SLY.png', 'FLD.png', 'DQR.png', 'MVKF.png', 'DAJ.png', 'KIV.png', 'TDJ.png', 'CIGW.png', 'GEHM.png', 'SGU.png', 'WQGT.png', 'LBXX.png', 'RWCP.png', 'ARI.png', 'PAKI.png', 'SRM.png', 'GFUV.png', 'ULOH.png', 'OYXN.png', 'KUG.png', 'GYU.png', 'QDA.png', 'GYY.png', 'TDBK.png', 'PVRL.png', 'TXV.png', 'CKCH.png', 'XOZ.png', 'SPS.png', 'NFQ.png', 'WJE.png', 'XPOF.png', 'HYJX.png', 'NEF.png', 'JSD.png', 'XIOQ.png', 'NEO.png', 'UIYS.png', 'PYKV.png', 'NYRY.png', 'OHZC.png', 'NKY.png', 'TVH.png', 'AQLE.png', 'CVJW.png', 'FOJ.png', 'VCC.png', 'EVRY.png', 'OGAH.png', 'CXNR.png', 'WKMG.png', 'CBX.png', 'BZH.png', 'ISJ.png', 'CKD.png', 'HDOO.png', 'MEM.png', 'OFNB.png', 'QHDI.png', 'VMOS.png', 'XDM.png', 'VIEK.png', 'SLXO.png', 'AWI.png', 'TEJ.png', 'VTHD.png', 'NNP.png', 'BNP.png', 'QASL.png', 'BJU.png', 'AFD.png', 'TVI.png', 'EVCU.png', 'BXII.png', 'AHCD.png', 'BAT.png', 'IAE.png', 'TJO.png', 'TCM.png', 'CSG.png', 'MXNY.png', 'ASBH.png', 'IWR.png', 'PPKG.png', 'HHO.png', 'BEUF.png', 'KEEL.png', 'UDJZ.png', 'TUY.png', 'AAQI.png', 'VKQ.png', 'TUO.png', 'ANDB.png', 'DIYG.png', 'NPNT.png', 'ARQ.png', 'WFD.png', 'AWS.png', 'IOCD.png', 'GWZI.png', 'RMUP.png', 'NQT.png', 'HYJ.png', 'ETGM.png', 'DPWL.png', 'JYB.png', 'GSOP.png', 'TMSK.png', 'PZQ.png', 'UXLJ.png', 'SAR.png', 'BRTA.png', 'OHHW.png', 'JNU.png', 'MWO.png', 'NCV.png', 'ESY.png', 'EXZG.png', 'CNH.png', 'KDIA.png', 'QONZ.png', 'LSUO.png', 'NMUH.png', 'QUO.png', 'CFW.png', 'PIG.png', 'REV.png', 'UYQI.png', 'IXJD.png', 'CNLT.png', 'EWTF.png', 'NOA.png', 'FZP.png', 'ILSE.png', 'FNTV.png', 'ARWT.png', 'ROC.png', 'BVAG.png', 'UORG.png', 'GUL.png', 'DFC.png', 'QZC.png', 'RSB.png', 'JGQG.png', 'OOP.png', 'EJUZ.png', 'EAO.png', 'TYTB.png', 'UCBI.png', 'SVG.png', 'UGJ.png', 'OOFJ.png', 'AYG.png', 'PGSJ.png', 'SJUC.png', 'IIC.png', 'SYLR.png', 'LACN.png', 'XQS.png', 'OCEI.png', 'LDJU.png', 'QUKM.png', 'BEA.png', 'QYN.png', 'EZX.png', 'ISJT.png', 'FXP.png', 'VAT.png', 'LQE.png', 'CDD.png', 'TWS.png', 'RTR.png', 'WSB.png', 'LDZ.png', 'AFU.png', 'LZQE.png', 'APQO.png', 'ICD.png', 'PNWI.png', 'PHIP.png', 'KJRC.png', 'WOD.png', 'LTOT.png', 'DYGG.png', 'BRHP.png', 'HNBT.png', 'MOA.png', 'VXNG.png', 'DLL.png', 'BHAE.png', 'MBRY.png', 'XPAH.png', 'MLF.png', 'TAAV.png', 'TYF.png', 'IZT.png', 'LNG.png', 'BVR.png', 'PNJ.png', 'DQIP.png', 'WYM.png', 'ENLD.png', 'PLL.png', 'XOO.png', 'WDOU.png', 'AJMN.png', 'UUJ.png', 'CXS.png', 'SCHS.png', 'WAZW.png', 'GMVC.png', 'UOZ.png', 'EZVI.png', 'BOGE.png', 'WXC.png', 'PIPI.png', 'WLAU.png', 'QZP.png', 'APHK.png']\n"
     ]
    },
    {
     "ename": "ModuleNotFoundError",
     "evalue": "No module named 'keras'",
     "output_type": "error",
     "traceback": [
      "\u001b[0;31m---------------------------------------------------------------------------\u001b[0m",
      "\u001b[0;31mModuleNotFoundError\u001b[0m                       Traceback (most recent call last)",
      "\u001b[0;32m<ipython-input-3-93667d6184ad>\u001b[0m in \u001b[0;36m<module>\u001b[0;34m\u001b[0m\n\u001b[1;32m     11\u001b[0m \u001b[0;32mimport\u001b[0m \u001b[0mos\u001b[0m\u001b[0;34m\u001b[0m\u001b[0;34m\u001b[0m\u001b[0m\n\u001b[1;32m     12\u001b[0m \u001b[0mprint\u001b[0m\u001b[0;34m(\u001b[0m\u001b[0mos\u001b[0m\u001b[0;34m.\u001b[0m\u001b[0mlistdir\u001b[0m\u001b[0;34m(\u001b[0m\u001b[0;34m\"train\"\u001b[0m\u001b[0;34m)\u001b[0m\u001b[0;34m)\u001b[0m\u001b[0;34m\u001b[0m\u001b[0;34m\u001b[0m\u001b[0m\n\u001b[0;32m---> 13\u001b[0;31m \u001b[0;32mfrom\u001b[0m \u001b[0mkeras\u001b[0m\u001b[0;34m.\u001b[0m\u001b[0mpreprocessing\u001b[0m\u001b[0;34m.\u001b[0m\u001b[0mimage\u001b[0m \u001b[0;32mimport\u001b[0m \u001b[0mImageDataGenerator\u001b[0m\u001b[0;34m,\u001b[0m \u001b[0marray_to_img\u001b[0m\u001b[0;34m,\u001b[0m \u001b[0mimg_to_array\u001b[0m\u001b[0;34m,\u001b[0m \u001b[0mload_img\u001b[0m\u001b[0;34m\u001b[0m\u001b[0;34m\u001b[0m\u001b[0m\n\u001b[0m\u001b[1;32m     14\u001b[0m \u001b[0;34m\u001b[0m\u001b[0m\n",
      "\u001b[0;31mModuleNotFoundError\u001b[0m: No module named 'keras'"
     ]
    }
   ],
   "source": [
    "import pandas as pd\n",
    "import numpy as np\n",
    "import cv2\n",
    "import glob\n",
    "# import imutils\n",
    "# from imutils import paths\n",
    "import os\n",
    "import os.path\n",
    "%matplotlib inline \n",
    "import matplotlib.pyplot as plt\n",
    "import os\n",
    "# print(os.listdir(\"train\"))\n",
    "from keras.preprocessing.image import ImageDataGenerator, array_to_img, img_to_array, load_img\n",
    "\n"
   ]
  },
  {
   "cell_type": "code",
   "execution_count": null,
   "metadata": {},
   "outputs": [],
   "source": [
    "image = load_img('../input/cap-data/data/validation/QOKZ.png')\n",
    "# img = cv2.imread(os.path('../input/cap-data/data/validation/QOKZ.png'), cv2.IMREAD_GRAYSCALE)\n",
    "captcha_image='../input/cap-data/data/validation/QOKZ.png'\n",
    "gray = cv2.imread(captcha_image)\n",
    "gray = cv2.cvtColor(gray, cv2.COLOR_BGR2GRAY)\n",
    "\n",
    "filename = os.path.basename(captcha_image)\n",
    "print(filename)\n",
    "captcha_text = os.path.splitext(filename)[0]\n",
    "print(captcha_text)\n",
    "thresh = cv2.threshold(gray, 127, 255, cv2.THRESH_BINARY_INV, cv2.THRESH_OTSU)[1]\n",
    "# thresh = cv2.threshold(gray, 127, 255,0,cv2.THRESH_OTSU)[1]\n",
    "plt.imshow(thresh)"
   ]
  },
  {
   "cell_type": "code",
   "execution_count": null,
   "metadata": {},
   "outputs": [],
   "source": [
    "# creating empty list for holding the coordinates of the letters\n",
    "letter_image_regions = []\n",
    "# finding the contours\n",
    "contours, hierarchy = cv2.findContours(thresh, cv2.RETR_EXTERNAL, cv2.CHAIN_APPROX_SIMPLE)\n",
    "print(len(contours))\n",
    "# print(len(hierarchy))\n",
    "for contour in contours:\n",
    "    # Get the rectangle that contains the contour\n",
    "    (x, y, w, h) = cv2.boundingRect(contour)\n",
    "#     print(x,y,w,h)\n",
    "    if w / h > 1.25:\n",
    "    # Split it in half into two letter regions\n",
    "        half_width = int(w / 2)\n",
    "        letter_image_regions.append((x, y, half_width, h))\n",
    "        letter_image_regions.append((x + half_width, y, half_width, h))\n",
    "    else:  \n",
    "        letter_image_regions.append((x, y, w, h))\n",
    "# cv2.drawContours(thresh, contours, -1, (0,255,0), 3)\n",
    "letter_image_regions = sorted(letter_image_regions, key=lambda x: x[0])\n",
    "print(letter_image_regions)"
   ]
  },
  {
   "cell_type": "code",
   "execution_count": null,
   "metadata": {},
   "outputs": [],
   "source": [
    "# Save each letter as a single image\n",
    "for letter_bounding_box, letter_text in zip(letter_image_regions, captcha_text):\n",
    "    # Grab the coordinates of the letter in the image\n",
    "    x, y, w, h = letter_bounding_box\n",
    "#     letter_image = gray[y :y + h , x :x + w ]\n",
    "    letter_image = gray[y - 2:y + h + 2, x - 2:x + w + 2]\n",
    "    plt.imshow(letter_image)\n"
   ]
  },
  {
   "cell_type": "code",
   "execution_count": null,
   "metadata": {},
   "outputs": [],
   "source": [
    "SOLVED_CAPTCHA_FOLDER = '../input/cap-data/data/train'\n",
    "OUTPUT_FOLDER = \"../output/train\"\n",
    "\n",
    "\n",
    "# Get the path of all the solved captcha images\n",
    "solved_captchas = glob.glob(os.path.join(SOLVED_CAPTCHA_FOLDER, \"*\"))\n",
    "counts = {}\n",
    "\n",
    "# loop over the image paths\n",
    "for (i, captcha) in enumerate(solved_captchas):\n",
    "    print(\"processing image {}/{}\".format(i + 1, len(solved_captchas)))\n",
    "\n",
    "    \n",
    "    # grab the base filename as the text\n",
    "    filename = os.path.basename(captcha)\n",
    "    captcha_text = os.path.splitext(filename)[0]\n",
    "\n",
    "    # Load the image and convert it to grayscale\n",
    "    image = cv2.imread(captcha)\n",
    "    gray = cv2.cvtColor(image, cv2.COLOR_BGR2GRAY)\n",
    "    \n",
    "    # applying threshold\n",
    "    thresh = cv2.threshold(gray, 127, 255, cv2.THRESH_BINARY_INV, cv2.THRESH_OTSU)[1]\n",
    "\n",
    "     # finding the contours\n",
    "    contours, hierarchy = cv2.findContours(thresh.copy(), cv2.RETR_EXTERNAL, cv2.CHAIN_APPROX_SIMPLE)\n",
    "\n",
    "    # creating empty list for holding the coordinates of the letters\n",
    "    letter_image_regions = []\n",
    "\n",
    "    # Now we will loop through each of the contours and extract the letter\n",
    "    for contour in contours:\n",
    "        # Get the rectangle that contains the contour\n",
    "        (x, y, w, h) = cv2.boundingRect(contour)\n",
    "        \n",
    "        # checking if any counter is too wide\n",
    "        # if countour is too wide then there could be two letters joined together or are very close to each other\n",
    "        if w / h > 1.25:\n",
    "            # Split it in half into two letter regions\n",
    "            half_width = int(w / 2)\n",
    "            letter_image_regions.append((x, y, half_width, h))\n",
    "            letter_image_regions.append((x + half_width, y, half_width, h))\n",
    "        else:\n",
    "            \n",
    "            letter_image_regions.append((x, y, w, h))\n",
    "            \n",
    "\n",
    "    \n",
    "    # Sort the detected letter images based on the x coordinate to make sure\n",
    "    # we get them from left-to-right so that we match the right image with the right letter\n",
    "    letter_image_regions = sorted(letter_image_regions, key=lambda x: x[0])\n",
    "    \n",
    "    # Save each letter as a single image\n",
    "    for letter_bounding_box, letter_text in zip(letter_image_regions, captcha_text):\n",
    "        # Grab the coordinates of the letter in the image\n",
    "        x, y, w, h = letter_bounding_box\n",
    "\n",
    "        # Extract the letter from the original image with a 2-pixel margin around the edge\n",
    "        letter_image = gray[y - 2:y + h + 2, x - 2:x + w + 2]\n",
    "\n",
    "\n",
    "        # Get the folder to save the image in\n",
    "        save_path = os.path.join(OUTPUT_FOLDER, letter_text)\n",
    "\n",
    "        # creating different output folder for storing different letters\n",
    "        if not os.path.exists(save_path):\n",
    "            os.makedirs(save_path)\n",
    "\n",
    "        # write the letter image to a file\n",
    "        count = counts.get(letter_text, 1)\n",
    "        p = os.path.join(save_path, \"{}.png\".format(str(count)))\n",
    "        cv2.imwrite(p, letter_image)\n",
    "\n",
    "        # increment the count\n",
    "        counts[letter_text] = count + 1\n"
   ]
  },
  {
   "cell_type": "code",
   "execution_count": null,
   "metadata": {},
   "outputs": [],
   "source": [
    "import imutils\n",
    "from imutils import paths\n",
    "letter_folder = '../output/train/A'\n",
    "\n",
    "#creating empty lists for storing image data and labels\n",
    "data = []\n",
    "labels = []\n",
    "print(len(letter_folder))\n",
    "for image in paths.list_images(letter_folder):\n",
    "    img = cv2.imread(image)\n",
    "#     plt.imshow(img)\n",
    "#     img = cv2.cvtColor(img, cv2.COLOR_BGR2GRAY)\n",
    "    img = cv2.resize(img, (30,30))\n",
    "    \n",
    "    # adding a 3rd dimension to the image\n",
    "    img = np.expand_dims(img, axis = 2)\n",
    "    \n",
    "    #grabing the name of the letter based on the folder it is present in\n",
    "    label = image.split(os.path.sep)[-2]\n",
    "    \n",
    "    # appending to the empty lists\n",
    "    data.append(img)\n",
    "    labels.append(label)\n",
    "\n",
    "#converting data and labels to np array\n",
    "data = np.array(data, dtype = \"float\")\n",
    "labels = np.array(labels)\n"
   ]
  },
  {
   "cell_type": "code",
   "execution_count": null,
   "metadata": {},
   "outputs": [],
   "source": []
  },
  {
   "cell_type": "code",
   "execution_count": null,
   "metadata": {},
   "outputs": [],
   "source": []
  }
 ],
 "metadata": {
  "kernelspec": {
   "display_name": "Python 3",
   "language": "python",
   "name": "python3"
  },
  "language_info": {
   "codemirror_mode": {
    "name": "ipython",
    "version": 3
   },
   "file_extension": ".py",
   "mimetype": "text/x-python",
   "name": "python",
   "nbconvert_exporter": "python",
   "pygments_lexer": "ipython3",
   "version": "3.6.8"
  }
 },
 "nbformat": 4,
 "nbformat_minor": 2
}
