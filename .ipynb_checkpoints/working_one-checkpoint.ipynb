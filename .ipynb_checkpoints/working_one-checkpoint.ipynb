{
 "cells": [
  {
   "cell_type": "code",
   "execution_count": 1,
   "metadata": {},
   "outputs": [],
   "source": [
    "from PIL import Image\n",
    "import os\n",
    "import cv2 as cv"
   ]
  },
  {
   "cell_type": "code",
   "execution_count": 7,
   "metadata": {},
   "outputs": [
    {
     "name": "stdout",
     "output_type": "stream",
     "text": [
      "235\n",
      "<PIL.Image.Image image mode=L size=600x150 at 0x7F671CE77F98>\n"
     ]
    },
    {
     "data": {
      "text/plain": [
       "255"
      ]
     },
     "execution_count": 7,
     "metadata": {},
     "output_type": "execute_result"
    }
   ],
   "source": [
    "chop = 10\n",
    "image = Image.open('train/DVZN.png').convert('L')\n",
    "img = image.load()\n",
    "bg=img[2, 2]\n",
    "print(bg)\n",
    "\n",
    "output_image = 'DVZN.png'\n",
    "print(image)\n",
    "width, height = image.size\n",
    "data = image.load()\n",
    "max=255\n",
    "# Iterate through the rows.\n",
    "for y in range(height):\n",
    "    for x in range(width):\n",
    "        \n",
    "        # Make sure we're on a dark pixel.\n",
    "        if data[x, y] > 128:\n",
    "            continue\n",
    "        else:\n",
    "            if data[x, y]< max :\n",
    "                max = data[x,y]\n",
    "        # Keep a total of non-white contiguous pixels.\n",
    "        total = 0\n",
    "\n",
    "        # Check a sequence ranging from x to image.width.\n",
    "        for c in range(x, width):\n",
    "\n",
    "            # If the pixel is dark, add it to the total.\n",
    "            if data[c, y] < 128:\n",
    "                total += 1\n",
    "\n",
    "            # If the pixel is light, stop the sequence.\n",
    "            else:\n",
    "                break\n",
    "\n",
    "        # If the total is less than the chop, replace everything with white.\n",
    "        if total <= chop:\n",
    "            for c in range(total):\n",
    "                data[x + c, y] = bg\n",
    "\n",
    "        # Skip this sequence we just altered.\n",
    "        x += total\n",
    "\n",
    "\n",
    "# Iterate through the columns.\n",
    "for x in range(width):\n",
    "    for y in range(height):\n",
    "\n",
    "        # Make sure we're on a dark pixel.\n",
    "        if data[x, y] > 128:\n",
    "            continue\n",
    "\n",
    "        # Keep a total of non-white contiguous pixels.\n",
    "        total = 0\n",
    "\n",
    "        # Check a sequence ranging from y to image.height.\n",
    "        for c in range(y, height):\n",
    "\n",
    "            # If the pixel is dark, add it to the total.\n",
    "            if data[x, c] < 128:\n",
    "                total += 1\n",
    "\n",
    "            # If the pixel is light, stop the sequence.\n",
    "            else:\n",
    "                break\n",
    "\n",
    "        # If the total is less than the chop, replace everything with white.\n",
    "        if total <= chop:\n",
    "            for c in range(total):\n",
    "                data[x, y + c] = bg\n",
    "\n",
    "        # Skip this sequence we just altered.\n",
    "        y += total\n",
    "# for x in range(width):\n",
    "#     for y in range(height):\n",
    "#         if data[x, y] == bg:\n",
    "#             data[x, y] = 0\n",
    "#         else:\n",
    "#             data[x, y] = 255\n",
    "        # Make sure we're on a dark pixel.\n",
    "# image = data        \n",
    "image.save('train_out/'+output_image)\n",
    "img = cv.imread('train_out/'+output_image,0)\n",
    "im_color = cv.applyColorMap(img, cv.COLORMAP_WINTER)\n",
    "cv.imshow('Dilation0', im_color) \n",
    "# clr_img = cv.imread('AISL.png')\n",
    "img = cv.medianBlur(img, 9)\n",
    "# img = cv2.GaussianBlur(img,(7,7),0)\n",
    "# th, img = cv2.threshold(img, 100, 10, cv2.THRESH_BINARY)\n",
    "#     img_erosion = cv2.erode(img, kernel, iterations=2) \n",
    "# img_dilation = cv2.dilate(img_erosion, kernel, iterations=1) \n",
    "# img = cv2.cvtColor(img,clr_img,cv2.COLOR_GRAY2BGR)\n",
    "#     neg = cv2.bitwise_not(img)\n",
    "#     cv2.imshow('Erosion', img_erosion)\n",
    "im_color = cv.applyColorMap(img, cv.COLORMAP_WINTER)\n",
    "# im_color1 = cv2.applyColorMap(im_color, cv2.COLOR_BGR2GRAY)\n",
    "# im_color1 = cv2.bitwise_not(im_color)\n",
    "#     cv2.imshow('DilationBlue', im_color) \n",
    "# im_color1 = cv2.cvtColor(im_color, cv2.COLOR_BGR2GRAY)\n",
    "cv.imshow('DilationNeg', im_color) \n",
    "# cv2.imshow('Dilation4', neg) \n",
    "cv.imwrite('train_out/'+output_image,im_color)\n",
    "cv.waitKey(0) "
   ]
  },
  {
   "cell_type": "code",
   "execution_count": 15,
   "metadata": {},
   "outputs": [
    {
     "data": {
      "text/plain": [
       "255"
      ]
     },
     "execution_count": 15,
     "metadata": {},
     "output_type": "execute_result"
    }
   ],
   "source": [
    "alpha = 0.9999999 # Contrast control (1.0-3.0)\n",
    "beta = 0 # Brightness control (0-100)\n",
    "\n",
    "adjusted = cv.convertScaleAbs(im_color, alpha=alpha, beta=beta)\n",
    "cv.imshow('adj', adjusted)\n",
    "\n",
    "neg = cv.cvtColor(adjusted,cv.COLOR_BGR2GRAY)\n",
    "cv.imshow('neg', neg) \n",
    "neg = cv.bitwise_not(neg)\n",
    "cv.imshow('not', neg) \n",
    "# cv.imwrite('train_out/'+output_image,im_color)\n",
    "cv.waitKey(0) "
   ]
  },
  {
   "cell_type": "code",
   "execution_count": 17,
   "metadata": {},
   "outputs": [
    {
     "ename": "ValueError",
     "evalue": "too many values to unpack (expected 2)",
     "output_type": "error",
     "traceback": [
      "\u001b[0;31m---------------------------------------------------------------------------\u001b[0m",
      "\u001b[0;31mValueError\u001b[0m                                Traceback (most recent call last)",
      "\u001b[0;32m<ipython-input-17-d0110b41b8d2>\u001b[0m in \u001b[0;36m<module>\u001b[0;34m\u001b[0m\n\u001b[0;32m----> 1\u001b[0;31m \u001b[0mrows\u001b[0m\u001b[0;34m,\u001b[0m\u001b[0mcols\u001b[0m \u001b[0;34m=\u001b[0m \u001b[0madjusted\u001b[0m\u001b[0;34m.\u001b[0m\u001b[0mshape\u001b[0m\u001b[0;34m\u001b[0m\u001b[0;34m\u001b[0m\u001b[0m\n\u001b[0m\u001b[1;32m      2\u001b[0m \u001b[0;34m\u001b[0m\u001b[0m\n\u001b[1;32m      3\u001b[0m \u001b[0;32mfor\u001b[0m \u001b[0mi\u001b[0m \u001b[0;32min\u001b[0m \u001b[0mrange\u001b[0m\u001b[0;34m(\u001b[0m\u001b[0mrows\u001b[0m\u001b[0;34m)\u001b[0m\u001b[0;34m:\u001b[0m\u001b[0;34m\u001b[0m\u001b[0;34m\u001b[0m\u001b[0m\n\u001b[1;32m      4\u001b[0m     \u001b[0;32mfor\u001b[0m \u001b[0mj\u001b[0m \u001b[0;32min\u001b[0m \u001b[0mrange\u001b[0m\u001b[0;34m(\u001b[0m\u001b[0mcols\u001b[0m\u001b[0;34m)\u001b[0m\u001b[0;34m:\u001b[0m\u001b[0;34m\u001b[0m\u001b[0;34m\u001b[0m\u001b[0m\n\u001b[1;32m      5\u001b[0m         \u001b[0mk\u001b[0m \u001b[0;34m=\u001b[0m \u001b[0mimg\u001b[0m\u001b[0;34m[\u001b[0m\u001b[0mi\u001b[0m\u001b[0;34m,\u001b[0m\u001b[0mj\u001b[0m\u001b[0;34m]\u001b[0m\u001b[0;34m\u001b[0m\u001b[0;34m\u001b[0m\u001b[0m\n",
      "\u001b[0;31mValueError\u001b[0m: too many values to unpack (expected 2)"
     ]
    }
   ],
   "source": [
    "rows,cols = adjusted.shape\n",
    "\n",
    "for i in range(rows):\n",
    "    for j in range(cols):\n",
    "        k = img[i,j]\n",
    "for i in range(rows):\n",
    "    for j in range(cols):\n",
    "        k = img[i,j]"
   ]
  },
  {
   "cell_type": "code",
   "execution_count": null,
   "metadata": {},
   "outputs": [],
   "source": []
  }
 ],
 "metadata": {
  "kernelspec": {
   "display_name": "Python 3",
   "language": "python",
   "name": "python3"
  },
  "language_info": {
   "codemirror_mode": {
    "name": "ipython",
    "version": 3
   },
   "file_extension": ".py",
   "mimetype": "text/x-python",
   "name": "python",
   "nbconvert_exporter": "python",
   "pygments_lexer": "ipython3",
   "version": "3.6.8"
  }
 },
 "nbformat": 4,
 "nbformat_minor": 2
}
