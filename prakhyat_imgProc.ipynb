{
 "cells": [
  {
   "cell_type": "code",
   "execution_count": 1,
   "metadata": {},
   "outputs": [],
   "source": [
    "import pandas as pd\n",
    "import numpy as np\n",
    "import cv2\n",
    "import glob\n",
    "import imutils\n",
    "from imutils import paths\n",
    "import os\n",
    "import os.path\n",
    "import matplotlib.pyplot as plt"
   ]
  },
  {
   "cell_type": "code",
   "execution_count": null,
   "metadata": {},
   "outputs": [],
   "source": []
  },
  {
   "cell_type": "code",
   "execution_count": 2,
   "metadata": {},
   "outputs": [],
   "source": [
    "captcha_image = 'AWS.png'\n",
    "# Load the image and convert it to grayscale\n",
    "image = cv2.imread(captcha_image)\n",
    "gray = cv2.cvtColor(image, cv2.COLOR_BGR2GRAY)\n",
    "#gray = cv2.medianBlur(gray, ksize=9)\n",
    " \n",
    "# grab the base filename as the text\n",
    "filename = os.path.basename(captcha_image)\n",
    "captcha_text = os.path.splitext(filename)[0]"
   ]
  },
  {
   "cell_type": "code",
   "execution_count": 3,
   "metadata": {},
   "outputs": [],
   "source": [
    "# Adding some extra padding around the image\n",
    "gray = cv2.copyMakeBorder(gray, 8, 8, 8, 8, cv2.BORDER_REPLICATE)\n",
    "\n",
    "# applying threshold\n",
    "thresh = cv2.threshold(gray, 127, 255, cv2.THRESH_BINARY_INV, cv2.THRESH_OTSU)[1]"
   ]
  },
  {
   "cell_type": "code",
   "execution_count": 4,
   "metadata": {},
   "outputs": [
    {
     "name": "stdout",
     "output_type": "stream",
     "text": [
      "(166, 616)\n"
     ]
    },
    {
     "data": {
      "image/png": "[encoded data removed]",
      "text/plain": [
       "<Figure size 432x288 with 1 Axes>"
      ]
     },
     "metadata": {
      "needs_background": "light"
     },
     "output_type": "display_data"
    },
    {
     "name": "stdout",
     "output_type": "stream",
     "text": [
      "(166, 616)\n"
     ]
    },
    {
     "data": {
      "image/png": "[encoded data removed]",
      "text/plain": [
       "<Figure size 432x288 with 1 Axes>"
      ]
     },
     "metadata": {
      "needs_background": "light"
     },
     "output_type": "display_data"
    }
   ],
   "source": [
    "h,w = gray.shape[:2]\n",
    "print(gray.shape)\n",
    "plt.imshow(gray,cmap='gray')\n",
    "plt.show()\n",
    "\n",
    "\n",
    "h,w = thresh.shape[:2]\n",
    "print(thresh.shape)\n",
    "plt.imshow(thresh,cmap='gray')\n",
    "plt.show()"
   ]
  },
  {
   "cell_type": "code",
   "execution_count": 10,
   "metadata": {},
   "outputs": [
    {
     "name": "stdout",
     "output_type": "stream",
     "text": [
      "3\n"
     ]
    }
   ],
   "source": [
    "# creating empty list for holding the coordinates of the letters\n",
    "letter_image_regions = []\n",
    " \n",
    "# finding the contours\n",
    "contours, hierarchy = cv2.findContours(thresh.copy(), cv2.RETR_EXTERNAL, cv2.CHAIN_APPROX_SIMPLE)[-2:]\n",
    "print(len(contours))\n",
    "contours, hierarchy = cv2.findContours(thresh.copy(), cv2.RETR_EXTERNAL, cv2.CHAIN_APPROX_SIMPLE)[-2:]\n",
    "for contour in contours:\n",
    "  # Get the rectangle that contains the contour\n",
    "  (x, y, w, h) = cv2.boundingRect(contour)\n",
    "        \n",
    "  # checking if any counter is too wide\n",
    "  # if countour is too wide then there could be two letters joined together or are very close to each other\n",
    "  if w / h > 1.25:\n",
    "    # Split it in half into two letter regions\n",
    "    half_width = int(w / 2)\n",
    "    letter_image_regions.append((x, y, half_width, h))\n",
    "    letter_image_regions.append((x + half_width, y, half_width, h))\n",
    "  else:  \n",
    "    letter_image_regions.append((x, y, w, h))"
   ]
  },
  {
   "cell_type": "code",
   "execution_count": 6,
   "metadata": {},
   "outputs": [
    {
     "name": "stdout",
     "output_type": "stream",
     "text": [
      "(109, 90)\n"
     ]
    },
    {
     "data": {
      "image/png": "[encoded data removed]",
      "text/plain": [
       "<Figure size 432x288 with 1 Axes>"
      ]
     },
     "metadata": {
      "needs_background": "light"
     },
     "output_type": "display_data"
    },
    {
     "name": "stdout",
     "output_type": "stream",
     "text": [
      "(109, 90)\n"
     ]
    },
    {
     "data": {
      "image/png": "[encoded data removed]",
      "text/plain": [
       "<Figure size 432x288 with 1 Axes>"
      ]
     },
     "metadata": {
      "needs_background": "light"
     },
     "output_type": "display_data"
    },
    {
     "name": "stdout",
     "output_type": "stream",
     "text": [
      "(115, 119)\n"
     ]
    },
    {
     "data": {
      "image/png": "[encoded data removed]",
      "text/plain": [
       "<Figure size 432x288 with 1 Axes>"
      ]
     },
     "metadata": {
      "needs_background": "light"
     },
     "output_type": "display_data"
    }
   ],
   "source": [
    "letter_image_regions = sorted(letter_image_regions, key=lambda x: x[0])\n",
    "\n",
    "# Save each letter as a single image\n",
    "for letter_bounding_box, letter_text in zip(letter_image_regions, captcha_text):\n",
    "  # Grab the coordinates of the letter in the image\n",
    "    x, y, w, h = letter_bounding_box\n",
    "\n",
    "  # Extract the letter from the original image with a 2-pixel margin around the edge\n",
    "    letter_image = gray[y - 2:y + h + 2, x - 2:x + w + 2]\n",
    "    h,w = letter_image.shape[:2]\n",
    "    print(letter_image.shape)\n",
    "    plt.imshow(letter_image,cmap='gray')\n",
    "    plt.show()"
   ]
  },
  {
   "cell_type": "code",
   "execution_count": null,
   "metadata": {},
   "outputs": [],
   "source": []
  }
 ],
 "metadata": {
  "kernelspec": {
   "display_name": "Python 3",
   "language": "python",
   "name": "python3"
  },
  "language_info": {
   "codemirror_mode": {
    "name": "ipython",
    "version": 3
   },
   "file_extension": ".py",
   "mimetype": "text/x-python",
   "name": "python",
   "nbconvert_exporter": "python",
   "pygments_lexer": "ipython3",
   "version": "3.7.5"
  }
 },
 "nbformat": 4,
 "nbformat_minor": 2
}
