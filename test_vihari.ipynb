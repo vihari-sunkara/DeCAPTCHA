{
 "cells": [
  {
   "cell_type": "code",
   "execution_count": 1,
   "metadata": {},
   "outputs": [],
   "source": [
    "import cv2\n",
    "from torchvision import models"
   ]
  },
  {
   "cell_type": "code",
   "execution_count": 2,
   "metadata": {},
   "outputs": [
    {
     "name": "stderr",
     "output_type": "stream",
     "text": [
      "Downloading: \"https://download.pytorch.org/models/resnet101-5d3b4d8f.pth\" to /home/vihari/.cache/torch/checkpoints/resnet101-5d3b4d8f.pth\n",
      "100.0%\n",
      "Downloading: \"https://download.pytorch.org/models/deeplabv3_resnet101_coco-586e9e4e.pth\" to /home/vihari/.cache/torch/checkpoints/deeplabv3_resnet101_coco-586e9e4e.pth\n",
      "100.0%\n"
     ]
    }
   ],
   "source": [
    "dlab = models.segmentation.deeplabv3_resnet101(pretrained=1).eval()"
   ]
  },
  {
   "cell_type": "code",
   "execution_count": 3,
   "metadata": {},
   "outputs": [],
   "source": [
    "def decode_segmap(image, source, nc=21):\n",
    "    foreground = cv2.imread(source)\n",
    " \n",
    "    # Change the color of foreground image to RGB\n",
    "    # and resize image to match shape of R-band in RGB output map\n",
    "    foreground = cv2.cvtColor(foreground, cv2.COLOR_BGR2RGB)\n",
    "    foreground = cv2.resize(foreground,(r.shape[1],r.shape[0]))\n",
    "\n",
    "    # Create a background array to hold white pixels\n",
    "    # with the same size as RGB output map\n",
    "    background = 255 * np.ones_like(rgb).astype(np.uint8)\n",
    "\n",
    "    # Convert uint8 to float\n",
    "    foreground = foreground.astype(float)\n",
    "    background = background.astype(float)\n",
    "\n",
    "    # Create a binary mask of the RGB output map using the threshold value 0\n",
    "    th, alpha = cv2.threshold(np.array(rgb),0,255, cv2.THRESH_BINARY)\n",
    "\n",
    "    # Apply a slight blur to the mask to soften edges\n",
    "    alpha = cv2.GaussianBlur(alpha, (7,7),0)\n",
    "\n",
    "    # Normalize the alpha mask to keep intensity between 0 and 1\n",
    "    alpha = alpha.astype(float)/255\n",
    "\n",
    "    # Multiply the foreground with the alpha matte\n",
    "    foreground = cv2.multiply(alpha, foreground)\n",
    "\n",
    "    # Multiply the background with ( 1 - alpha )\n",
    "    background = cv2.multiply(1.0 - alpha, background)\n",
    "\n",
    "    # Add the masked foreground and background\n",
    "    outImage = cv2.add(foreground, background)\n",
    "\n",
    "    # Return a normalized output image for display\n",
    "    return outImage/255"
   ]
  },
  {
   "cell_type": "code",
   "execution_count": 5,
   "metadata": {},
   "outputs": [
    {
     "ename": "error",
     "evalue": "/build/opencv-L2vuMj/opencv-3.2.0+dfsg/modules/imgproc/src/color.cpp:9716: error: (-215) scn == 3 || scn == 4 in function cvtColor\n",
     "output_type": "error",
     "traceback": [
      "\u001b[0;31m---------------------------------------------------------------------------\u001b[0m",
      "\u001b[0;31merror\u001b[0m                                     Traceback (most recent call last)",
      "\u001b[0;32m<ipython-input-5-81eab3517c42>\u001b[0m in \u001b[0;36m<module>\u001b[0;34m\u001b[0m\n\u001b[0;32m----> 1\u001b[0;31m \u001b[0mdecode_segmap\u001b[0m\u001b[0;34m(\u001b[0m\u001b[0mdlab\u001b[0m\u001b[0;34m,\u001b[0m \u001b[0;34m'./images/bgremoval/redcar.png'\u001b[0m\u001b[0;34m)\u001b[0m\u001b[0;34m\u001b[0m\u001b[0;34m\u001b[0m\u001b[0m\n\u001b[0m",
      "\u001b[0;32m<ipython-input-3-9fac8b21ff77>\u001b[0m in \u001b[0;36mdecode_segmap\u001b[0;34m(image, source, nc)\u001b[0m\n\u001b[1;32m      4\u001b[0m     \u001b[0;31m# Change the color of foreground image to RGB\u001b[0m\u001b[0;34m\u001b[0m\u001b[0;34m\u001b[0m\u001b[0;34m\u001b[0m\u001b[0m\n\u001b[1;32m      5\u001b[0m     \u001b[0;31m# and resize image to match shape of R-band in RGB output map\u001b[0m\u001b[0;34m\u001b[0m\u001b[0;34m\u001b[0m\u001b[0;34m\u001b[0m\u001b[0m\n\u001b[0;32m----> 6\u001b[0;31m     \u001b[0mforeground\u001b[0m \u001b[0;34m=\u001b[0m \u001b[0mcv2\u001b[0m\u001b[0;34m.\u001b[0m\u001b[0mcvtColor\u001b[0m\u001b[0;34m(\u001b[0m\u001b[0mforeground\u001b[0m\u001b[0;34m,\u001b[0m \u001b[0mcv2\u001b[0m\u001b[0;34m.\u001b[0m\u001b[0mCOLOR_BGR2RGB\u001b[0m\u001b[0;34m)\u001b[0m\u001b[0;34m\u001b[0m\u001b[0;34m\u001b[0m\u001b[0m\n\u001b[0m\u001b[1;32m      7\u001b[0m     \u001b[0mforeground\u001b[0m \u001b[0;34m=\u001b[0m \u001b[0mcv2\u001b[0m\u001b[0;34m.\u001b[0m\u001b[0mresize\u001b[0m\u001b[0;34m(\u001b[0m\u001b[0mforeground\u001b[0m\u001b[0;34m,\u001b[0m\u001b[0;34m(\u001b[0m\u001b[0mr\u001b[0m\u001b[0;34m.\u001b[0m\u001b[0mshape\u001b[0m\u001b[0;34m[\u001b[0m\u001b[0;36m1\u001b[0m\u001b[0;34m]\u001b[0m\u001b[0;34m,\u001b[0m\u001b[0mr\u001b[0m\u001b[0;34m.\u001b[0m\u001b[0mshape\u001b[0m\u001b[0;34m[\u001b[0m\u001b[0;36m0\u001b[0m\u001b[0;34m]\u001b[0m\u001b[0;34m)\u001b[0m\u001b[0;34m)\u001b[0m\u001b[0;34m\u001b[0m\u001b[0;34m\u001b[0m\u001b[0m\n\u001b[1;32m      8\u001b[0m \u001b[0;34m\u001b[0m\u001b[0m\n",
      "\u001b[0;31merror\u001b[0m: /build/opencv-L2vuMj/opencv-3.2.0+dfsg/modules/imgproc/src/color.cpp:9716: error: (-215) scn == 3 || scn == 4 in function cvtColor\n"
     ]
    }
   ],
   "source": [
    "decode_segmap(dlab, './images/bgremoval/redcar.png')"
   ]
  },
  {
   "cell_type": "code",
   "execution_count": 76,
   "metadata": {},
   "outputs": [
    {
     "data": {
      "text/plain": [
       "255"
      ]
     },
     "execution_count": 76,
     "metadata": {},
     "output_type": "execute_result"
    }
   ],
   "source": [
    "import numpy as np\n",
    "import cv2 as cv\n",
    "from matplotlib import pyplot as plt\n",
    "img = cv.imread('train/AISL.png',0)\n",
    "orig = img\n",
    "img = img[10:140, 10:570]\n",
    "\n",
    "mask = np.zeros(img.shape[:2],np.uint8)\n",
    "bgdModel = np.zeros((1,65),np.float64)\n",
    "fgdModel = np.zeros((1,65),np.float64)\n",
    "# rect = (50,50,450,350)\n",
    "rect = (5,5,550,250)\n",
    "# cv.grabCut(img,mask,rect,bgdModel,fgdModel,7,cv.GC_INIT_WITH_RECT)\n",
    "# mask2 = np.where((mask==2)|(mask==0),0,1).astype('uint8')\n",
    "# img = img*mask2[:,:,np.newaxis]\n",
    "\n",
    "\n",
    "img = cv2.medianBlur(img, 7)\n",
    "# img = cv2.GaussianBlur(img,(7,7),0)\n",
    "th, img = cv2.threshold(img, 120, 250, cv2.THRESH_BINARY)\n",
    "img_erosion = cv2.erode(img, kernel, iterations=1) \n",
    "img_dilation = cv2.dilate(img_erosion, kernel, iterations=2) \n",
    "cv.imshow('dilated',img_dilation)\n",
    "\n",
    "cv.imshow('orig',orig)\n",
    "\n",
    "\n",
    "# backSub = cv.createBackgroundSubtractorMOG2(history=1)\n",
    "# img_dilation = backSub.apply(img_dilation)\n",
    "# cv.imshow('mask',img_dilation)\n",
    "\n",
    "# img = cv.imread('AAA.png')\n",
    "\n",
    "cv.waitKey(0)\n",
    "# plt.imshow(img),plt.colorbar(),plt.show()"
   ]
  },
  {
   "cell_type": "code",
   "execution_count": 49,
   "metadata": {},
   "outputs": [
    {
     "data": {
      "text/plain": [
       "255"
      ]
     },
     "execution_count": 49,
     "metadata": {},
     "output_type": "execute_result"
    }
   ],
   "source": [
    "img = cv.imread(\"AAA.png\")\n",
    "crop_img = img[30:140, 20:500]\n",
    "cv.imshow(\"cropped\", crop_img)\n",
    "cv.waitKey(0)"
   ]
  },
  {
   "cell_type": "code",
   "execution_count": 1,
   "metadata": {},
   "outputs": [
    {
     "ename": "NameError",
     "evalue": "name 'np' is not defined",
     "output_type": "error",
     "traceback": [
      "\u001b[0;31m---------------------------------------------------------------------------\u001b[0m",
      "\u001b[0;31mNameError\u001b[0m                                 Traceback (most recent call last)",
      "\u001b[0;32m<ipython-input-1-c7ceb853e2ed>\u001b[0m in \u001b[0;36m<module>\u001b[0;34m\u001b[0m\n\u001b[1;32m     11\u001b[0m \u001b[0mmasked_img_inv\u001b[0m \u001b[0;34m=\u001b[0m \u001b[0mcv2\u001b[0m\u001b[0;34m.\u001b[0m\u001b[0mbitwise_not\u001b[0m\u001b[0;34m(\u001b[0m\u001b[0mmasked_img\u001b[0m\u001b[0;34m)\u001b[0m\u001b[0;34m\u001b[0m\u001b[0;34m\u001b[0m\u001b[0m\n\u001b[1;32m     12\u001b[0m \u001b[0;34m\u001b[0m\u001b[0m\n\u001b[0;32m---> 13\u001b[0;31m \u001b[0mkernel\u001b[0m \u001b[0;34m=\u001b[0m \u001b[0mnp\u001b[0m\u001b[0;34m.\u001b[0m\u001b[0mones\u001b[0m\u001b[0;34m(\u001b[0m\u001b[0;34m(\u001b[0m\u001b[0;36m5\u001b[0m\u001b[0;34m,\u001b[0m\u001b[0;36m5\u001b[0m\u001b[0;34m)\u001b[0m\u001b[0;34m,\u001b[0m\u001b[0mnp\u001b[0m\u001b[0;34m.\u001b[0m\u001b[0muint8\u001b[0m\u001b[0;34m)\u001b[0m\u001b[0;34m\u001b[0m\u001b[0;34m\u001b[0m\u001b[0m\n\u001b[0m\u001b[1;32m     14\u001b[0m \u001b[0mdilation\u001b[0m \u001b[0;34m=\u001b[0m \u001b[0mcv2\u001b[0m\u001b[0;34m.\u001b[0m\u001b[0mdilate\u001b[0m\u001b[0;34m(\u001b[0m\u001b[0mmasked_img_inv\u001b[0m\u001b[0;34m,\u001b[0m\u001b[0mkernel\u001b[0m\u001b[0;34m,\u001b[0m\u001b[0miterations\u001b[0m \u001b[0;34m=\u001b[0m \u001b[0;36m3\u001b[0m\u001b[0;34m)\u001b[0m \u001b[0;31m# to remove blackline noise\u001b[0m\u001b[0;34m\u001b[0m\u001b[0;34m\u001b[0m\u001b[0m\n\u001b[1;32m     15\u001b[0m \u001b[0mcv2\u001b[0m\u001b[0;34m.\u001b[0m\u001b[0mimwrite\u001b[0m\u001b[0;34m(\u001b[0m\u001b[0;34m\"result1.jpg\"\u001b[0m\u001b[0;34m,\u001b[0m \u001b[0mdilation\u001b[0m\u001b[0;34m)\u001b[0m\u001b[0;34m\u001b[0m\u001b[0;34m\u001b[0m\u001b[0m\n",
      "\u001b[0;31mNameError\u001b[0m: name 'np' is not defined"
     ]
    }
   ],
   "source": [
    "import cv2 as cv2\n",
    "img = cv2.imread('AAA.png',0)\n",
    "\n",
    "#display image in window\n",
    "#cv2.imshow('image',img) #@param - windowname, image to be displayed\n",
    "\n",
    "horizontal_inv = cv2.bitwise_not(img)\n",
    "#perform bitwise_and to mask the lines with provided mask\n",
    "masked_img = cv2.bitwise_and(img, img, mask=horizontal_inv)\n",
    "#reverse the image back to normal\n",
    "masked_img_inv = cv2.bitwise_not(masked_img)\n",
    "\n",
    "kernel = np.ones((5,5),np.uint8)\n",
    "dilation = cv2.dilate(masked_img_inv,kernel,iterations = 3) # to remove blackline noise\n",
    "cv2.imwrite(\"result1.jpg\", dilation)"
   ]
  },
  {
   "cell_type": "code",
   "execution_count": null,
   "metadata": {},
   "outputs": [],
   "source": [
    "ret,thresh2 = cv2.threshold(dilation,254,255,cv2.THRESH_BINARY_INV) \n",
    "thresh2=cv2.bitwise_not(thresh2)\n",
    "# cv2.imshow(\"masked img\", masked_img_inv)\n",
    "cv2.imwrite(\"result2.jpg\", thresh2)"
   ]
  },
  {
   "cell_type": "code",
   "execution_count": 54,
   "metadata": {},
   "outputs": [],
   "source": [
    "import sys\n",
    "import numpy as np\n",
    "import cv2\n",
    "import os\n",
    "from PIL import Image\n",
    "from PIL import ImageFilter\n",
    "\n",
    "def prepare_image(img):\n",
    "    \"\"\"Transform image to greyscale and blur it\"\"\"\n",
    "    img = img.filter(ImageFilter.SMOOTH_MORE)\n",
    "    img = img.filter(ImageFilter.SMOOTH_MORE)\n",
    "    if 'L' != img.mode:\n",
    "        img = img.convert('L')\n",
    "    return img\n",
    "\n",
    "def remove_noise(img, pass_factor):\n",
    "    for column in range(img.size[0]):\n",
    "        for line in range(img.size[1]):\n",
    "            value = remove_noise_by_pixel(img, column, line, pass_factor)\n",
    "            img.putpixel((column, line), value)\n",
    "    return img\n",
    "\n",
    "def remove_noise_by_pixel(img, column, line, pass_factor):\n",
    "    if img.getpixel((column, line)) < pass_factor:\n",
    "        return (0)\n",
    "    return (255)"
   ]
  },
  {
   "cell_type": "code",
   "execution_count": 55,
   "metadata": {},
   "outputs": [],
   "source": [
    "# input_image = sys.argv[1]\n",
    "for f in os.listdir(\"train\"):\n",
    "    input_image = f\n",
    "    output_image = input_image\n",
    "    pass_factor = 140\n",
    "\n",
    "    img = Image.open('train/'+input_image)\n",
    "    img = prepare_image(img)\n",
    "    img = remove_noise(img, pass_factor)\n",
    "    \n",
    "    \n",
    "    img.save('train_out/'+output_image,'png')\n",
    "    kernel = np.ones((3,3), np.uint8) \n",
    "    img = cv2.imread('train_out/'+output_image,0)\n",
    "    img_dilation = cv2.dilate(img, kernel, iterations=1) \n",
    "    cv2.imwrite('train_out/'+output_image, img_dilation)"
   ]
  },
  {
   "cell_type": "code",
   "execution_count": 53,
   "metadata": {},
   "outputs": [
    {
     "data": {
      "text/plain": [
       "True"
      ]
     },
     "execution_count": 53,
     "metadata": {},
     "output_type": "execute_result"
    }
   ],
   "source": [
    "input_image = \"AHLD.png\"\n",
    "output_image = input_image\n",
    "pass_factor = 140\n",
    "\n",
    "img = Image.open(input_image)\n",
    "img = prepare_image(img)\n",
    "img = remove_noise(img, pass_factor)\n",
    "\n",
    "\n",
    "img.save('_out'+output_image,'png')\n",
    "kernel = np.ones((3,3), np.uint8) \n",
    "img = cv2.imread('_out'+output_image,0)\n",
    "img_dilation = cv2.dilate(img, kernel, iterations=1) \n",
    "cv2.imwrite('_out'+output_image, img_dilation)"
   ]
  },
  {
   "cell_type": "code",
   "execution_count": 44,
   "metadata": {},
   "outputs": [],
   "source": [
    "# import fnmatch\n",
    "# import os\n",
    "\n",
    "# # print([f for f in os.listdir(\"train\") if fnmatch.fnmatch(f, '*.png')])\n",
    "# import fnmatch\n",
    "# import os\n",
    "\n",
    "# for f in os.listdir(\"train\"):\n",
    "#     print(f)"
   ]
  },
  {
   "cell_type": "code",
   "execution_count": 42,
   "metadata": {},
   "outputs": [],
   "source": [
    "# def clean_image(img):\n",
    "#     height, width = img.shape[:2]\n",
    "\n",
    "#     # Specify the color range of the lines you want to remove [lower, upper]\n",
    "#     lower = [0, 0, 0]\n",
    "#     upper = [100, 100, 100]\n",
    "#     lower = np.array(lower, dtype = \"uint8\")\n",
    "#     upper = np.array(upper, dtype = \"uint8\") \n",
    "\n",
    "#     # Create a mask of the lines\n",
    "#     mask = cv2.inRange(img, lower, upper)\n",
    "\n",
    "#     output = cv2.bitwise_and(img, img, mask = mask)\n",
    "\n",
    "#     # As the original comment explains, dilate lines a bit because aliasing \n",
    "#     # may have filtered borders too much during masking \n",
    "#     kernel = cv2.getStructuringElement(cv2.MORPH_ELLIPSE, (5, 5))\n",
    "#     dilation = cv2.dilate(output, kernel, iterations = 2)\n",
    "\n",
    "#     # Conver the mask to gray scale\n",
    "#     gray = cv2.cvtColor(dilation, cv2.COLOR_BGR2GRAY)\n",
    "\n",
    "#     # Reference: https://docs.opencv.org/trunk/df/d3d/tutorial_py_inpainting.html\n",
    "#     # Apply the mask created above on the image\n",
    "#     dst = cv2.inpaint(img,gray,5,cv2.INPAINT_NS)\n",
    "\n",
    "\n",
    "#     # Post mask application, there will be inconsistency/gaps/separation of individual \n",
    "#     # digits/alphabets. So we dilate (puff up the white blobs) so that each individual \n",
    "#     # digit gets properly connected and considered as one blob (which can be further used\n",
    "#     # to find contours)\n",
    "#     dilation = cv2.dilate(dst, kernel, iterations = 1)\n",
    "\n",
    "#     # Reference for blurring and bilateral filtering: \n",
    "#     # https://docs.opencv.org/3.1.0/d4/d13/tutorial_py_filtering.html\n",
    "#     blur = cv2.GaussianBlur(dilation,(5,5),0)\n",
    "#     bilateral = cv2.bilateralFilter(blur,5,75,75)\n",
    "#     gray = cv2.cvtColor(bilateral, cv2.COLOR_BGR2GRAY)\n",
    "\n",
    "#     # If pixel value is greater than a threshold value, it is assigned one value (may be white), \n",
    "#     # else it is assigned another value (may be black)\n",
    "#     # Reference: https://docs.opencv.org/3.4.0/d7/d4d/tutorial_py_thresholding.html\n",
    "#     thresh = cv2.threshold(gray, 0, 255, cv2.THRESH_OTSU)[1]\n",
    "\n",
    "#     return thresh\n",
    "\n",
    "# # Read the image using cv2.imread() and pass it to the clean_image function\n",
    "\n",
    "# # if __name__ == '__main__':\n",
    "# #     b"
   ]
  },
  {
   "cell_type": "code",
   "execution_count": 43,
   "metadata": {},
   "outputs": [
    {
     "data": {
      "text/plain": [
       "255"
      ]
     },
     "execution_count": 43,
     "metadata": {},
     "output_type": "execute_result"
    }
   ],
   "source": [
    "# img = cv2.imread(\"train_out/BCQ.png\")\n",
    "# img = clean_image(img)\n",
    "# cv2.imshow(\"Final Output\", img)\n",
    "# cv2.waitKey(0)"
   ]
  },
  {
   "cell_type": "code",
   "execution_count": 2,
   "metadata": {},
   "outputs": [
    {
     "data": {
      "text/plain": [
       "True"
      ]
     },
     "execution_count": 2,
     "metadata": {},
     "output_type": "execute_result"
    }
   ],
   "source": [
    "import cv2\n",
    "\n",
    "#Read gray image\n",
    "img = cv2.imread(\"AAA.png\",0)\n",
    "\n",
    "#Create default parametrization LSD\n",
    "lsd = cv2.createLineSegmentDetector(0)\n",
    "\n",
    "#Detect lines in the image\n",
    "lines = lsd.detect(img)[0] #Position 0 of the returned tuple are the detected lines\n",
    "\n",
    "#Draw the detected lines\n",
    "drawn_img = lsd.drawSegments(img,lines)\n",
    "\n",
    "#Save the image with the detected lines\n",
    "cv2.imwrite('lsdsaved.png', drawn_img)"
   ]
  },
  {
   "cell_type": "code",
   "execution_count": 5,
   "metadata": {},
   "outputs": [
    {
     "data": {
      "text/plain": [
       "True"
      ]
     },
     "execution_count": 5,
     "metadata": {},
     "output_type": "execute_result"
    }
   ],
   "source": [
    "for element in lines:\n",
    "\n",
    "    #If the length of the line is more than 50, then draw a white line on it\n",
    "    if (abs(int(element[0][0]) - int(element[0][2])) > 50 or abs(int(element[0][1]) - int(element[0][3])) > 50): \n",
    "\n",
    "    #Draw the white line\n",
    "        cv2.line(img, (int(element[0][0]), int(element[0][1])), (int(element[0][2]), int(element[0][3])), (255, 255, 255), 12)\n",
    "\n",
    "#Save the final image\n",
    "cv2.imwrite('removedzz.png', img)"
   ]
  },
  {
   "cell_type": "code",
   "execution_count": 3,
   "metadata": {},
   "outputs": [
    {
     "data": {
      "text/plain": [
       "255"
      ]
     },
     "execution_count": 3,
     "metadata": {},
     "output_type": "execute_result"
    }
   ],
   "source": [
    "import cv2 \n",
    "import numpy as np \n",
    "  \n",
    "# Reading the input image \n",
    "img = cv2.imread('train/BSPC.png', 0) \n",
    "  \n",
    "# Taking a matrix of size 5 as the kernel \n",
    "kernel = np.ones((2,2), np.uint8) \n",
    "  \n",
    "# The first parameter is the original image, \n",
    "# kernel is the matrix with which image is  \n",
    "# convolved and third parameter is the number  \n",
    "# of iterations, which will determine how much  \n",
    "# you want to erode/dilate a given image.  \n",
    "\n",
    "img_dilation = cv2.dilate(img, kernel, iterations=1) \n",
    "img_erosion = cv2.erode(img_dilation, kernel, iterations=1) \n",
    "  \n",
    "cv2.imshow('Input', img) \n",
    "\n",
    "cv2.imshow('Dilation', img_dilation) \n",
    "cv2.imshow('Erosion', img_erosion) \n",
    "# cv2.imwrite('removedzz.png', img_dilation)\n",
    "  \n",
    "cv2.waitKey(0) "
   ]
  },
  {
   "cell_type": "code",
   "execution_count": 12,
   "metadata": {},
   "outputs": [],
   "source": [
    "import os\n",
    "import random\n",
    "from shutil import copyfile\n",
    "\n",
    "def img_train_test_split(img_source_dir, train_size):\n",
    "    \"\"\"\n",
    "    Randomly splits images over a train and validation folder, while preserving the folder structure\n",
    "    \n",
    "    Parameters\n",
    "    ----------\n",
    "    img_source_dir : string\n",
    "        Path to the folder with the images to be split. Can be absolute or relative path   \n",
    "        \n",
    "    train_size : float\n",
    "        Proportion of the original images that need to be copied in the subdirectory in the train folder\n",
    "    \"\"\"    \n",
    "    if not (isinstance(img_source_dir, str)):\n",
    "        raise AttributeError('img_source_dir must be a string')\n",
    "        \n",
    "    if not os.path.exists(img_source_dir):\n",
    "        raise OSError('img_source_dir does not exist')\n",
    "        \n",
    "    if not (isinstance(train_size, float)):\n",
    "        raise AttributeError('train_size must be a float')\n",
    "        \n",
    "    # Set up empty folder structure if not exists\n",
    "    if not os.path.exists('data'):\n",
    "        os.makedirs('data')\n",
    "    else:\n",
    "        if not os.path.exists('data/train'):\n",
    "            os.makedirs('data/train')\n",
    "        if not os.path.exists('data/validation'):\n",
    "            os.makedirs('data/validation')\n",
    "            \n",
    "    # Get the subdirectories in the main image folder\n",
    "#     subdirs = [subdir for subdir in os.listdir(img_source_dir) if os.path.isdir(os.path.join(img_source_dir, subdir))]\n",
    "\n",
    "#     for subdir in subdirs:\n",
    "#         subdir_fullpath = os.path.join(img_source_dir, subdir)\n",
    "#         if len(os.listdir(subdir_fullpath)) == 0:\n",
    "#             print(subdir_fullpath + ' is empty')\n",
    "#             break\n",
    "\n",
    "#         train_subdir = os.path.join('data/train', subdir)\n",
    "#         validation_subdir = os.path.join('data/validation', subdir)\n",
    "\n",
    "#         # Create subdirectories in train and validation folders\n",
    "#         if not os.path.exists(train_subdir):\n",
    "#             os.makedirs(train_subdir)\n",
    "\n",
    "#         if not os.path.exists(validation_subdir):\n",
    "#             os.makedirs(validation_subdir)\n",
    "\n",
    "    train_counter = 0\n",
    "    validation_counter = 0\n",
    "    subdir_fullpath = img_source_dir\n",
    "    train_subdir = \"data/train\"\n",
    "    validation_subdir = \"data/validation\"\n",
    "    # Randomly assign an image to train or validation folder\n",
    "    for filename in os.listdir(subdir_fullpath):\n",
    "        if filename.endswith(\".jpg\") or filename.endswith(\".png\"): \n",
    "            fileparts = filename.split('.')\n",
    "\n",
    "            if random.uniform(0, 1) <= train_size:\n",
    "                copyfile(os.path.join(subdir_fullpath, filename), os.path.join(train_subdir, fileparts[0] + '.' + fileparts[1]))\n",
    "                train_counter += 1\n",
    "            else:\n",
    "                copyfile(os.path.join(subdir_fullpath, filename), os.path.join(validation_subdir, fileparts[0] + '.' + fileparts[1]))\n",
    "                validation_counter += 1\n",
    "                    \n",
    "#         print('Copied ' + str(train_counter) + ' images to data/train/' + subdir)\n",
    "#         print('Copied ' + str(validation_counter) + ' images to data/validation/' + subdir)"
   ]
  },
  {
   "cell_type": "code",
   "execution_count": 14,
   "metadata": {},
   "outputs": [],
   "source": [
    "img_train_test_split(\"train_out\", 0.9)"
   ]
  },
  {
   "cell_type": "code",
   "execution_count": 63,
   "metadata": {},
   "outputs": [
    {
     "data": {
      "text/plain": [
       "255"
      ]
     },
     "execution_count": 63,
     "metadata": {},
     "output_type": "execute_result"
    }
   ],
   "source": [
    "import numpy as np\n",
    "import cv2 as cv2\n",
    "\n",
    "kernel = np.ones((4,4), np.uint8) \n",
    "img = cv.imread('train/AAA.png')\n",
    "orig = img\n",
    "img = img[20:140, 10:500]\n",
    "# img = cv2.resize(img, None, fx=10, fy=10, interpolation=cv2.INTER_LINEAR)\n",
    "img = cv2.medianBlur(img, 7)\n",
    "# img = cv2.GaussianBlur(img,(7,7),0)\n",
    "th, img = cv2.threshold(img, 120, 250, cv2.THRESH_BINARY)\n",
    "img_erosion = cv2.erode(img, kernel, iterations=1) \n",
    "img_dilation = cv2.dilate(img_erosion, kernel, iterations=1) \n",
    "cv.imshow('dilated',img_dilation)\n",
    "cv.waitKey(0)\n",
    "# img_dilation = cv2.bitwise_not(img_dilation)\n",
    "# img_dilation = cv2.cvtColor(img_dilation, cv2.COLOR_BGR2GRAY)"
   ]
  },
  {
   "cell_type": "code",
   "execution_count": 81,
   "metadata": {},
   "outputs": [],
   "source": [
    "img = img_dilation\n",
    "img = cv2.medianBlur(img, 5)\n",
    "# img = cv2.GaussianBlur(img,(7,7),0)\n",
    "th, img = cv2.threshold(img, 115, 250, cv2.THRESH_BINARY)\n",
    "img_erosion = cv2.erode(img, kernel, iterations=1) \n",
    "img_dilation1 = cv2.dilate(img_erosion, kernel, iterations=1) "
   ]
  },
  {
   "cell_type": "code",
   "execution_count": 82,
   "metadata": {},
   "outputs": [
    {
     "data": {
      "text/plain": [
       "233"
      ]
     },
     "execution_count": 82,
     "metadata": {},
     "output_type": "execute_result"
    }
   ],
   "source": [
    "cv2.imshow('Dilation1', img_dilation)\n",
    "cv2.imshow('Dilation2', img_dilation1) \n",
    "cv2.waitKey(0) "
   ]
  },
  {
   "cell_type": "code",
   "execution_count": 12,
   "metadata": {},
   "outputs": [
    {
     "data": {
      "text/plain": [
       "'SARS W'"
      ]
     },
     "execution_count": 12,
     "metadata": {},
     "output_type": "execute_result"
    }
   ],
   "source": [
    "try:\n",
    "    from PIL import Image\n",
    "except ImportError:\n",
    "    import Image\n",
    "import pytesseract\n",
    "\n",
    "\n",
    "\n",
    "text = pytesseract.image_to_string(Image.open('BRSW.png'))  # We'll use Pillow's Image class to open the image and pytesseract to detect the string in the image\n",
    "text  # Then we will print the text in the image"
   ]
  },
  {
   "cell_type": "code",
   "execution_count": 18,
   "metadata": {},
   "outputs": [
    {
     "data": {
      "text/plain": [
       "255"
      ]
     },
     "execution_count": 18,
     "metadata": {},
     "output_type": "execute_result"
    }
   ],
   "source": [
    "import numpy as np \n",
    "import cv2 \n",
    "from matplotlib import pyplot as plt \n",
    "  \n",
    "# Image operation using thresholding \n",
    "img = cv2.imread('train/AAA.png') \n",
    "  \n",
    "gray = cv2.cvtColor(img, cv2.COLOR_BGR2GRAY) \n",
    "  \n",
    "ret, thresh = cv2.threshold(gray, 0, 255, \n",
    "                            cv2.THRESH_BINARY_INV +\n",
    "                            cv2.THRESH_OTSU) \n",
    "cv2.imshow('image', thresh) \n",
    "cv2.waitKey(0) "
   ]
  },
  {
   "cell_type": "code",
   "execution_count": 21,
   "metadata": {},
   "outputs": [
    {
     "data": {
      "text/plain": [
       "255"
      ]
     },
     "execution_count": 21,
     "metadata": {},
     "output_type": "execute_result"
    }
   ],
   "source": [
    "kernel = np.ones((4, 4), np.uint8) \n",
    "closing = cv2.morphologyEx(thresh, cv2.MORPH_CLOSE, \n",
    "                            kernel, iterations = 2) \n",
    "  \n",
    "# Background area using Dialation \n",
    "# bg = cv2.dilate(closing, kernel, iterations = 2) \n",
    "# bg = cv2.erode(closing, kernel, iterations = 2)\n",
    "bg = cv2.dilate(closing, kernel, iterations = 2)\n",
    "# Finding foreground area \n",
    "dist_transform = cv2.distanceTransform(closing, cv2.DIST_L2, 0) \n",
    "ret, fg = cv2.threshold(dist_transform, 0.02\n",
    "                        * dist_transform.max(), 255, 0) \n",
    "  \n",
    "cv2.imshow('image', bg) \n",
    "cv2.waitKey(0) "
   ]
  },
  {
   "cell_type": "code",
   "execution_count": 22,
   "metadata": {},
   "outputs": [
    {
     "ename": "AttributeError",
     "evalue": "module 'cv2' has no attribute 'createBackgroundSubtractorCNT'",
     "output_type": "error",
     "traceback": [
      "\u001b[0;31m---------------------------------------------------------------------------\u001b[0m",
      "\u001b[0;31mAttributeError\u001b[0m                            Traceback (most recent call last)",
      "\u001b[0;32m<ipython-input-22-28d1ceb9d853>\u001b[0m in \u001b[0;36m<module>\u001b[0;34m\u001b[0m\n\u001b[1;32m      3\u001b[0m \u001b[0;31m# backSub = cv.createBackgroundSubtractorMOG2()\u001b[0m\u001b[0;34m\u001b[0m\u001b[0;34m\u001b[0m\u001b[0;34m\u001b[0m\u001b[0m\n\u001b[1;32m      4\u001b[0m \u001b[0;34m\u001b[0m\u001b[0m\n\u001b[0;32m----> 5\u001b[0;31m \u001b[0mbackSub\u001b[0m \u001b[0;34m=\u001b[0m \u001b[0mcv\u001b[0m\u001b[0;34m.\u001b[0m\u001b[0mcreateBackgroundSubtractorCNT\u001b[0m\u001b[0;34m(\u001b[0m\u001b[0;34m)\u001b[0m\u001b[0;34m\u001b[0m\u001b[0;34m\u001b[0m\u001b[0m\n\u001b[0m\u001b[1;32m      6\u001b[0m \u001b[0;31m# capture = cv.VideoCapture(cv.samples.findFileOrKeep(args.input))\u001b[0m\u001b[0;34m\u001b[0m\u001b[0;34m\u001b[0m\u001b[0;34m\u001b[0m\u001b[0m\n\u001b[1;32m      7\u001b[0m \u001b[0mimg\u001b[0m \u001b[0;34m=\u001b[0m \u001b[0mcv\u001b[0m\u001b[0;34m.\u001b[0m\u001b[0mimread\u001b[0m\u001b[0;34m(\u001b[0m\u001b[0;34m'train_out/AWS.png'\u001b[0m\u001b[0;34m)\u001b[0m\u001b[0;34m\u001b[0m\u001b[0;34m\u001b[0m\u001b[0m\n",
      "\u001b[0;31mAttributeError\u001b[0m: module 'cv2' has no attribute 'createBackgroundSubtractorCNT'"
     ]
    }
   ],
   "source": [
    "import cv2 as cv\n",
    "\n",
    "# backSub = cv.createBackgroundSubtractorMOG2()\n",
    "\n",
    "backSub = cv.createBackgroundSubtractorCNT()\n",
    "# capture = cv.VideoCapture(cv.samples.findFileOrKeep(args.input))\n",
    "img = cv.imread('train_out/AWS.png') \n",
    "\n",
    "\n",
    "\n",
    "\n",
    "fgMask = backSub.apply(img)\n",
    "\n",
    "\n",
    "# cv.rectangle(img, (10, 2), (100,20), (255,255,255), -1)\n",
    "# cv.putText(img, str(capture.get(cv.CAP_PROP_POS_FRAMES)), (15, 15),\n",
    "#            cv.FONT_HERSHEY_SIMPLEX, 0.5 , (0,0,0))\n",
    "\n",
    "\n",
    "cv.imshow('Frame', img)\n",
    "cv.imshow('FG Mask', fgMask)\n",
    "\n",
    "cv.waitKey(0)\n",
    "   "
   ]
  },
  {
   "cell_type": "code",
   "execution_count": 201,
   "metadata": {},
   "outputs": [
    {
     "data": {
      "image/png": "[encoded data removed]",
      "text/plain": [
       "<PIL.Image.Image image mode=1 size=600x150 at 0x7F249C0F4630>"
      ]
     },
     "execution_count": 201,
     "metadata": {},
     "output_type": "execute_result"
    }
   ],
   "source": [
    "from PIL import Image\n",
    "import sys\n",
    "\n",
    "# python chop.py [chop-factor] [in-file] [out-file]\n",
    "\n",
    "chop = 1\n",
    "image = Image.open('AISL.png').convert('1')\n",
    "image"
   ]
  },
  {
   "cell_type": "code",
   "execution_count": 262,
   "metadata": {},
   "outputs": [
    {
     "name": "stdout",
     "output_type": "stream",
     "text": [
      "246\n",
      "<PIL.Image.Image image mode=L size=600x150 at 0x7F249C0BA438>\n"
     ]
    },
    {
     "data": {
      "image/png": "[encoded data removed]",
      "text/plain": [
       "<PIL.Image.Image image mode=L size=600x150 at 0x7F249C0BA438>"
      ]
     },
     "execution_count": 262,
     "metadata": {},
     "output_type": "execute_result"
    }
   ],
   "source": [
    "from PIL import Image\n",
    "import sys\n",
    "\n",
    "# python chop.py [chop-factor] [in-file] [out-file]\n",
    "\n",
    "chop = 10\n",
    "image = PIL.Image.open('train/BDFP.png').convert('L')\n",
    "img = image.load()\n",
    "bg=img[2, 2]\n",
    "print(bg)\n",
    "\n",
    "\n",
    "print(image)\n",
    "width, height = image.size\n",
    "data = image.load()\n",
    "\n",
    "# Iterate through the rows.\n",
    "for y in range(height):\n",
    "    for x in range(width):\n",
    "\n",
    "        # Make sure we're on a dark pixel.\n",
    "        if data[x, y] > 128:\n",
    "            continue\n",
    "\n",
    "        # Keep a total of non-white contiguous pixels.\n",
    "        total = 0\n",
    "\n",
    "        # Check a sequence ranging from x to image.width.\n",
    "        for c in range(x, width):\n",
    "\n",
    "            # If the pixel is dark, add it to the total.\n",
    "            if data[c, y] < 128:\n",
    "                total += 1\n",
    "\n",
    "            # If the pixel is light, stop the sequence.\n",
    "            else:\n",
    "                break\n",
    "\n",
    "        # If the total is less than the chop, replace everything with white.\n",
    "        if total <= chop:\n",
    "            for c in range(total):\n",
    "                data[x + c, y] = bg\n",
    "\n",
    "        # Skip this sequence we just altered.\n",
    "        x += total\n",
    "\n",
    "\n",
    "# Iterate through the columns.\n",
    "for x in range(width):\n",
    "    for y in range(height):\n",
    "\n",
    "        # Make sure we're on a dark pixel.\n",
    "        if data[x, y] > 128:\n",
    "            continue\n",
    "\n",
    "        # Keep a total of non-white contiguous pixels.\n",
    "        total = 0\n",
    "\n",
    "        # Check a sequence ranging from y to image.height.\n",
    "        for c in range(y, height):\n",
    "\n",
    "            # If the pixel is dark, add it to the total.\n",
    "            if data[x, c] < 128:\n",
    "                total += 1\n",
    "\n",
    "            # If the pixel is light, stop the sequence.\n",
    "            else:\n",
    "                break\n",
    "\n",
    "        # If the total is less than the chop, replace everything with white.\n",
    "        if total <= chop:\n",
    "            for c in range(total):\n",
    "                data[x, y + c] = bg\n",
    "\n",
    "        # Skip this sequence we just altered.\n",
    "        y += total\n",
    "\n",
    "# image.save('AISL_gray.png')\n",
    "# image"
   ]
  },
  {
   "cell_type": "code",
   "execution_count": 268,
   "metadata": {},
   "outputs": [
    {
     "data": {
      "text/plain": [
       "255"
      ]
     },
     "execution_count": 268,
     "metadata": {},
     "output_type": "execute_result"
    }
   ],
   "source": [
    "img = cv.imread('AISL_gray.png',0)\n",
    "im_color = cv2.applyColorMap(img, cv2.COLORMAP_OCEAN)\n",
    "cv2.imshow('Dilation0', im_color) \n",
    "# clr_img = cv.imread('AISL.png')\n",
    "img = cv2.medianBlur(img, 9)\n",
    "# img = cv2.GaussianBlur(img,(7,7),0)\n",
    "# th, img = cv2.threshold(img, 100, 10, cv2.THRESH_BINARY)\n",
    "img_erosion = cv2.erode(img, kernel, iterations=2) \n",
    "# img_dilation = cv2.dilate(img_erosion, kernel, iterations=1) \n",
    "# img = cv2.cvtColor(img,clr_img,cv2.COLOR_GRAY2BGR)\n",
    "neg = cv2.bitwise_not(img)\n",
    "cv2.imshow('Erosion', img_erosion)\n",
    "im_color = cv2.applyColorMap(img, cv2.COLORMAP_OCEAN)\n",
    "# im_color1 = cv2.applyColorMap(im_color, cv2.COLOR_BGR2GRAY)\n",
    "# im_color1 = cv2.bitwise_not(im_color)\n",
    "cv2.imshow('DilationBlue', im_color) \n",
    "# im_color1 = cv2.cvtColor(im_color, cv2.COLOR_BGR2GRAY)\n",
    "# cv2.imshow('DilationNeg', im_color1) \n",
    "# cv2.imshow('Dilation4', neg) \n",
    "cv2.imwrite('train_out/BDFP.png',im_color)\n",
    "cv2.waitKey(0) \n"
   ]
  },
  {
   "cell_type": "code",
   "execution_count": 259,
   "metadata": {},
   "outputs": [],
   "source": [
    "# alpha = 1\n",
    "# beta = 1\n",
    "\n",
    "# new_image = np.zeros(img.shape)\n",
    "# for y in range(img.shape[0]):\n",
    "#     for x in range(img.shape[1]):\n",
    "#         new_image[y,x] = np.clip(alpha*img[y,x] + beta, 0, 255)\n"
   ]
  },
  {
   "cell_type": "code",
   "execution_count": 261,
   "metadata": {},
   "outputs": [],
   "source": [
    "# cv2.imshow('Dilation4', new_image) \n",
    "# cv2.waitKey(0) "
   ]
  },
  {
   "cell_type": "code",
   "execution_count": 271,
   "metadata": {},
   "outputs": [],
   "source": [
    "from PIL import Image\n",
    "import os\n",
    "import cv2 as cv\n",
    "for f in os.listdir(\"train\"):\n",
    "    input_image = f\n",
    "    output_image = input_image\n",
    "    chop = 10\n",
    "    image = Image.open('train/'+input_image).convert('L')\n",
    "    img = image.load()\n",
    "    bg=img[2, 2]\n",
    "#     print(bg)\n",
    "\n",
    "#     output_image = 'AAE.png'\n",
    "#     print(image)\n",
    "    width, height = image.size\n",
    "    data = image.load()\n",
    "    max=255\n",
    "    # Iterate through the rows.\n",
    "    for y in range(height):\n",
    "        for x in range(width):\n",
    "\n",
    "            # Make sure we're on a dark pixel.\n",
    "            if data[x, y] > 128:\n",
    "                continue\n",
    "            else:\n",
    "                if data[x, y]< max :\n",
    "                    max = data[x,y]\n",
    "            # Keep a total of non-white contiguous pixels.\n",
    "            total = 0\n",
    "\n",
    "            # Check a sequence ranging from x to image.width.\n",
    "            for c in range(x, width):\n",
    "\n",
    "                # If the pixel is dark, add it to the total.\n",
    "                if data[c, y] < 128:\n",
    "                    total += 1\n",
    "\n",
    "                # If the pixel is light, stop the sequence.\n",
    "                else:\n",
    "                    break\n",
    "\n",
    "            # If the total is less than the chop, replace everything with white.\n",
    "            if total <= chop:\n",
    "                for c in range(total):\n",
    "                    data[x + c, y] = bg\n",
    "\n",
    "            # Skip this sequence we just altered.\n",
    "            x += total\n",
    "\n",
    "\n",
    "    # Iterate through the columns.\n",
    "    for x in range(width):\n",
    "        for y in range(height):\n",
    "\n",
    "            # Make sure we're on a dark pixel.\n",
    "            if data[x, y] > 128:\n",
    "                continue\n",
    "\n",
    "            # Keep a total of non-white contiguous pixels.\n",
    "            total = 0\n",
    "\n",
    "            # Check a sequence ranging from y to image.height.\n",
    "            for c in range(y, height):\n",
    "\n",
    "                # If the pixel is dark, add it to the total.\n",
    "                if data[x, c] < 128:\n",
    "                    total += 1\n",
    "\n",
    "                # If the pixel is light, stop the sequence.\n",
    "                else:\n",
    "                    break\n",
    "\n",
    "            # If the total is less than the chop, replace everything with white.\n",
    "            if total <= chop:\n",
    "                for c in range(total):\n",
    "                    data[x, y + c] = bg\n",
    "\n",
    "            # Skip this sequence we just altered.\n",
    "            y += total\n",
    "    for x in range(width):\n",
    "        for y in range(height):\n",
    "            if data[x, y] == bg:\n",
    "                data[x, y] = 255\n",
    "            else:\n",
    "                data[x, y] = 0\n",
    "            # Make sure we're on a dark pixel.\n",
    "    # image = data        \n",
    "    image.save('train_out/'+output_image)\n",
    "    img = cv.imread('train_out/'+output_image,0)\n",
    "    im_color = cv.applyColorMap(img, cv.COLORMAP_WINTER)\n",
    "#     cv.imshow('Dilation0', im_color) \n",
    "    # clr_img = cv.imread('AISL.png')\n",
    "    img = cv.medianBlur(img, 11)\n",
    "#     kernel = np.ones((4,4), np.uint8) \n",
    "    # img = cv2.GaussianBlur(img,(7,7),0)\n",
    "    # th, img = cv2.threshold(img, 100, 10, cv2.THRESH_BINARY)\n",
    "    # img_erosion = cv.erode(img, kernel, iterations=1) \n",
    "    # img_dilation = cv2.dilate(img_erosion, kernel, iterations=1) \n",
    "    # img = cv2.cvtColor(img,clr_img,cv2.COLOR_GRAY2BGR)\n",
    "    #     neg = cv2.bitwise_not(img)\n",
    "    #     cv2.imshow('Erosion', img_erosion)\n",
    "    im_color = cv.applyColorMap(img, cv.COLORMAP_WINTER)\n",
    "    # im_color1 = cv2.applyColorMap(im_color, cv2.COLOR_BGR2GRAY)\n",
    "    # im_color1 = cv2.bitwise_not(im_color)\n",
    "    #     cv2.imshow('DilationBlue', im_color) \n",
    "    # im_color1 = cv2.cvtColor(im_color, cv2.COLOR_BGR2GRAY)\n",
    "#     cv.imshow('DilationNeg', im_color) \n",
    "    # cv2.imshow('Dilation4', neg) \n",
    "    cv.imwrite('train_out/'+output_image,im_color)\n",
    "#     cv.waitKey(0) \n",
    "#     alpha = 0.9999999 # Contrast control (1.0-3.0)\n",
    "#     beta = 0 # Brightness control (0-100)\n",
    "\n",
    "#     adjusted = cv.convertScaleAbs(im_color, alpha=alpha, beta=beta)\n",
    "#     cv.imshow('adj', adjusted)\n",
    "\n",
    "#     neg = cv.cvtColor(adjusted,cv.COLOR_BGR2GRAY)\n",
    "#     cv.imshow('neg', neg) \n",
    "#     neg = cv.bitwise_not(neg)\n",
    "#     cv.imshow('not', neg) \n",
    "#     # cv.imwrite('train_out/'+output_image,im_color)\n",
    "#     cv.waitKey(0) "
   ]
  },
  {
   "cell_type": "code",
   "execution_count": null,
   "metadata": {},
   "outputs": [],
   "source": []
  }
 ],
 "metadata": {
  "kernelspec": {
   "display_name": "Python 3",
   "language": "python",
   "name": "python3"
  },
  "language_info": {
   "codemirror_mode": {
    "name": "ipython",
    "version": 3
   },
   "file_extension": ".py",
   "mimetype": "text/x-python",
   "name": "python",
   "nbconvert_exporter": "python",
   "pygments_lexer": "ipython3",
   "version": "3.6.8"
  }
 },
 "nbformat": 4,
 "nbformat_minor": 2
}
